{
 "cells": [
  {
   "cell_type": "markdown",
   "metadata": {},
   "source": [
    "## Project: Maritime Fuels LCA\n",
    "### Notebook 1: Setting up the project & databases\n",
    "#### This notebook is developed by Megan Roux and Massimo Pizzol, and includes adaptions of code provided by Massimo Pizzol, Nils Thonemann and Chris Mutel"
   ]
  },
  {
   "cell_type": "markdown",
   "metadata": {},
   "source": [
    "This notebook relates to work done for the publication 'Consequential LCA of alternative maritime fuels' which can be found at: doi"
   ]
  },
  {
   "cell_type": "markdown",
   "metadata": {},
   "source": [
    "Begin by importing all relevant packages (ensure you are in the right environment):"
   ]
  },
  {
   "cell_type": "code",
   "execution_count": 1,
   "metadata": {},
   "outputs": [],
   "source": [
    "# Note: must be environment with brightway2 installed\n",
    "import brightway2 as bw\n",
    "import pandas as pd\n",
    "import numpy as np\n",
    "import matplotlib\n",
    "from lci_to_bw2 import * # this file has to be in the same folder as the notebook and raw data"
   ]
  },
  {
   "cell_type": "markdown",
   "metadata": {},
   "source": [
    "Start by setting or creating the project:"
   ]
  },
  {
   "cell_type": "code",
   "execution_count": 2,
   "metadata": {},
   "outputs": [],
   "source": [
    "bw.projects.set_current(\"fuels\")"
   ]
  },
  {
   "cell_type": "markdown",
   "metadata": {},
   "source": [
    "Now check which databases are in the project:"
   ]
  },
  {
   "cell_type": "code",
   "execution_count": 3,
   "metadata": {},
   "outputs": [
    {
     "data": {
      "text/plain": [
       "Databases dictionary with 23 objects, including:\n",
       "\tFuels_db_SA1\n",
       "\tFuels_db_SA1a\n",
       "\tFuels_db_SA1b\n",
       "\tFuels_db_SA1c\n",
       "\tFuels_db_SA1d\n",
       "\tFuels_db_SA1e\n",
       "\tFuels_db_SA1f\n",
       "\tFuels_db_SA2\n",
       "\tFuels_db_SA2a\n",
       "\tFuels_db_SA2b\n",
       "Use `list(this object)` to get the complete list."
      ]
     },
     "execution_count": 3,
     "metadata": {},
     "output_type": "execute_result"
    }
   ],
   "source": [
    "bw.databases"
   ]
  },
  {
   "cell_type": "markdown",
   "metadata": {},
   "source": [
    "If biosphere3 and ecoinvent 3.9.1 consequential are already there, then skip the next steps and go to the importing of the foreground databases. Otherwise, import the background databases.\n",
    "\n",
    "Starting with setting up the biosphere:"
   ]
  },
  {
   "cell_type": "code",
   "execution_count": null,
   "metadata": {},
   "outputs": [],
   "source": [
    "#biosphere set up"
   ]
  },
  {
   "cell_type": "markdown",
   "metadata": {},
   "source": [
    "Then import ecoinvent:"
   ]
  },
  {
   "cell_type": "code",
   "execution_count": 1,
   "metadata": {},
   "outputs": [],
   "source": [
    "#ei set up"
   ]
  },
  {
   "cell_type": "code",
   "execution_count": 4,
   "metadata": {},
   "outputs": [],
   "source": [
    "ei39db = bw.Database(\"ecoinvent 3.9 conseq\")\n",
    "biodb = bw.Database(\"biosphere3\")"
   ]
  },
  {
   "cell_type": "markdown",
   "metadata": {},
   "source": [
    "Now import the foreground databases:"
   ]
  },
  {
   "cell_type": "markdown",
   "metadata": {},
   "source": [
    "Reading the Excel files"
   ]
  },
  {
   "cell_type": "code",
   "execution_count": 5,
   "metadata": {},
   "outputs": [
    {
     "data": {
      "text/html": [
       "<div>\n",
       "<style scoped>\n",
       "    .dataframe tbody tr th:only-of-type {\n",
       "        vertical-align: middle;\n",
       "    }\n",
       "\n",
       "    .dataframe tbody tr th {\n",
       "        vertical-align: top;\n",
       "    }\n",
       "\n",
       "    .dataframe thead th {\n",
       "        text-align: right;\n",
       "    }\n",
       "</style>\n",
       "<table border=\"1\" class=\"dataframe\">\n",
       "  <thead>\n",
       "    <tr style=\"text-align: right;\">\n",
       "      <th></th>\n",
       "      <th>Activity database</th>\n",
       "      <th>Activity code</th>\n",
       "      <th>Activity name</th>\n",
       "      <th>Activity unit</th>\n",
       "      <th>Activity type</th>\n",
       "      <th>Exchange database</th>\n",
       "      <th>Exchange input</th>\n",
       "      <th>Exchange amount</th>\n",
       "      <th>Exchange unit</th>\n",
       "      <th>Exchange type</th>\n",
       "      <th>Notes</th>\n",
       "    </tr>\n",
       "  </thead>\n",
       "  <tbody>\n",
       "    <tr>\n",
       "      <th>0</th>\n",
       "      <td>Fuels_db_WtW_MJ</td>\n",
       "      <td>eMeOH_DAC_WtW_MJ</td>\n",
       "      <td>eMeOH_DAC_WtW_MJ</td>\n",
       "      <td>megajoule</td>\n",
       "      <td>process</td>\n",
       "      <td>Fuels_db_WtT_MJ</td>\n",
       "      <td>eMeOH_DAC</td>\n",
       "      <td>0.9</td>\n",
       "      <td>megajoule</td>\n",
       "      <td>technosphere</td>\n",
       "      <td>MF production</td>\n",
       "    </tr>\n",
       "    <tr>\n",
       "      <th>1</th>\n",
       "      <td>Fuels_db_WtW_MJ</td>\n",
       "      <td>eMeOH_DAC_WtW_MJ</td>\n",
       "      <td>eMeOH_DAC_WtW_MJ</td>\n",
       "      <td>megajoule</td>\n",
       "      <td>process</td>\n",
       "      <td>Fuels_db_WtT_MJ</td>\n",
       "      <td>VLSFO</td>\n",
       "      <td>0.1</td>\n",
       "      <td>megajoule</td>\n",
       "      <td>technosphere</td>\n",
       "      <td>pilot production</td>\n",
       "    </tr>\n",
       "    <tr>\n",
       "      <th>2</th>\n",
       "      <td>Fuels_db_WtW_MJ</td>\n",
       "      <td>eMeOH_DAC_WtW_MJ</td>\n",
       "      <td>eMeOH_DAC_WtW_MJ</td>\n",
       "      <td>megajoule</td>\n",
       "      <td>process</td>\n",
       "      <td>Fuels_db_TtW_MJ</td>\n",
       "      <td>MeOH_combustion</td>\n",
       "      <td>0.9</td>\n",
       "      <td>megajoule</td>\n",
       "      <td>technosphere</td>\n",
       "      <td>MF combustion</td>\n",
       "    </tr>\n",
       "    <tr>\n",
       "      <th>3</th>\n",
       "      <td>Fuels_db_WtW_MJ</td>\n",
       "      <td>eMeOH_DAC_WtW_MJ</td>\n",
       "      <td>eMeOH_DAC_WtW_MJ</td>\n",
       "      <td>megajoule</td>\n",
       "      <td>process</td>\n",
       "      <td>Fuels_db_TtW_MJ</td>\n",
       "      <td>VLSFO_combustion</td>\n",
       "      <td>0.1</td>\n",
       "      <td>megajoule</td>\n",
       "      <td>technosphere</td>\n",
       "      <td>pilot combustion</td>\n",
       "    </tr>\n",
       "    <tr>\n",
       "      <th>4</th>\n",
       "      <td>Fuels_db_WtW_MJ</td>\n",
       "      <td>eMeOH_DAC_WtW_MJ</td>\n",
       "      <td>eMeOH_DAC_WtW_MJ</td>\n",
       "      <td>megajoule</td>\n",
       "      <td>process</td>\n",
       "      <td>Fuels_db_WtW_MJ</td>\n",
       "      <td>eMeOH_DAC_WtW_MJ</td>\n",
       "      <td>1.0</td>\n",
       "      <td>megajoule</td>\n",
       "      <td>production</td>\n",
       "      <td>WtW</td>\n",
       "    </tr>\n",
       "  </tbody>\n",
       "</table>\n",
       "</div>"
      ],
      "text/plain": [
       "  Activity database     Activity code     Activity name Activity unit  \\\n",
       "0   Fuels_db_WtW_MJ  eMeOH_DAC_WtW_MJ  eMeOH_DAC_WtW_MJ     megajoule   \n",
       "1   Fuels_db_WtW_MJ  eMeOH_DAC_WtW_MJ  eMeOH_DAC_WtW_MJ     megajoule   \n",
       "2   Fuels_db_WtW_MJ  eMeOH_DAC_WtW_MJ  eMeOH_DAC_WtW_MJ     megajoule   \n",
       "3   Fuels_db_WtW_MJ  eMeOH_DAC_WtW_MJ  eMeOH_DAC_WtW_MJ     megajoule   \n",
       "4   Fuels_db_WtW_MJ  eMeOH_DAC_WtW_MJ  eMeOH_DAC_WtW_MJ     megajoule   \n",
       "\n",
       "  Activity type Exchange database    Exchange input  Exchange amount  \\\n",
       "0       process   Fuels_db_WtT_MJ         eMeOH_DAC              0.9   \n",
       "1       process   Fuels_db_WtT_MJ             VLSFO              0.1   \n",
       "2       process   Fuels_db_TtW_MJ   MeOH_combustion              0.9   \n",
       "3       process   Fuels_db_TtW_MJ  VLSFO_combustion              0.1   \n",
       "4       process   Fuels_db_WtW_MJ  eMeOH_DAC_WtW_MJ              1.0   \n",
       "\n",
       "  Exchange unit Exchange type             Notes  \n",
       "0     megajoule  technosphere     MF production  \n",
       "1     megajoule  technosphere  pilot production  \n",
       "2     megajoule  technosphere     MF combustion  \n",
       "3     megajoule  technosphere  pilot combustion  \n",
       "4     megajoule    production               WtW  "
      ]
     },
     "execution_count": 5,
     "metadata": {},
     "output_type": "execute_result"
    }
   ],
   "source": [
    "WtT_MJ = pd.read_csv('Fuels_db_WtT_MJ.csv', header = 0, sep = \";\") # using csv file avoids encoding problem\n",
    "WtT_MJ.head()\n",
    "TtW_MJ = pd.read_csv('Fuels_db_TtW_MJ.csv', header = 0, sep = \";\") # using csv file avoids encoding problem\n",
    "TtW_MJ.head()\n",
    "WtW_MJ = pd.read_csv('Fuels_db_WtW_MJ.csv', header = 0, sep = \";\") # using csv file avoids encoding problem\n",
    "WtW_MJ.head()"
   ]
  },
  {
   "cell_type": "markdown",
   "metadata": {},
   "source": [
    "Cleaning these up"
   ]
  },
  {
   "cell_type": "code",
   "execution_count": 6,
   "metadata": {},
   "outputs": [
    {
     "name": "stderr",
     "output_type": "stream",
     "text": [
      "C:\\Users\\merou\\AppData\\Local\\Temp\\ipykernel_16588\\1366891860.py:2: FutureWarning: In a future version of pandas all arguments of DataFrame.drop except for the argument 'labels' will be keyword-only.\n",
      "  WtT_MJ = WtT_MJ.drop('Notes', 1)  # remove the columns not needed\n",
      "C:\\Users\\merou\\AppData\\Local\\Temp\\ipykernel_16588\\1366891860.py:6: FutureWarning: In a future version of pandas all arguments of DataFrame.drop except for the argument 'labels' will be keyword-only.\n",
      "  TtW_MJ = TtW_MJ.drop('Notes', 1)\n",
      "C:\\Users\\merou\\AppData\\Local\\Temp\\ipykernel_16588\\1366891860.py:9: FutureWarning: In a future version of pandas all arguments of DataFrame.drop except for the argument 'labels' will be keyword-only.\n",
      "  WtW_MJ = WtW_MJ.drop('Notes', 1)\n"
     ]
    },
    {
     "data": {
      "text/html": [
       "<div>\n",
       "<style scoped>\n",
       "    .dataframe tbody tr th:only-of-type {\n",
       "        vertical-align: middle;\n",
       "    }\n",
       "\n",
       "    .dataframe tbody tr th {\n",
       "        vertical-align: top;\n",
       "    }\n",
       "\n",
       "    .dataframe thead th {\n",
       "        text-align: right;\n",
       "    }\n",
       "</style>\n",
       "<table border=\"1\" class=\"dataframe\">\n",
       "  <thead>\n",
       "    <tr style=\"text-align: right;\">\n",
       "      <th></th>\n",
       "      <th>Activity database</th>\n",
       "      <th>Activity code</th>\n",
       "      <th>Activity name</th>\n",
       "      <th>Activity unit</th>\n",
       "      <th>Activity type</th>\n",
       "      <th>Exchange database</th>\n",
       "      <th>Exchange input</th>\n",
       "      <th>Exchange amount</th>\n",
       "      <th>Exchange unit</th>\n",
       "      <th>Exchange type</th>\n",
       "    </tr>\n",
       "  </thead>\n",
       "  <tbody>\n",
       "    <tr>\n",
       "      <th>0</th>\n",
       "      <td>Fuels_db_WtW_MJ</td>\n",
       "      <td>eMeOH_DAC_WtW_MJ</td>\n",
       "      <td>eMeOH_DAC_WtW_MJ</td>\n",
       "      <td>megajoule</td>\n",
       "      <td>process</td>\n",
       "      <td>Fuels_db_WtT_MJ</td>\n",
       "      <td>eMeOH_DAC</td>\n",
       "      <td>0.9</td>\n",
       "      <td>megajoule</td>\n",
       "      <td>technosphere</td>\n",
       "    </tr>\n",
       "    <tr>\n",
       "      <th>1</th>\n",
       "      <td>Fuels_db_WtW_MJ</td>\n",
       "      <td>eMeOH_DAC_WtW_MJ</td>\n",
       "      <td>eMeOH_DAC_WtW_MJ</td>\n",
       "      <td>megajoule</td>\n",
       "      <td>process</td>\n",
       "      <td>Fuels_db_WtT_MJ</td>\n",
       "      <td>VLSFO</td>\n",
       "      <td>0.1</td>\n",
       "      <td>megajoule</td>\n",
       "      <td>technosphere</td>\n",
       "    </tr>\n",
       "    <tr>\n",
       "      <th>2</th>\n",
       "      <td>Fuels_db_WtW_MJ</td>\n",
       "      <td>eMeOH_DAC_WtW_MJ</td>\n",
       "      <td>eMeOH_DAC_WtW_MJ</td>\n",
       "      <td>megajoule</td>\n",
       "      <td>process</td>\n",
       "      <td>Fuels_db_TtW_MJ</td>\n",
       "      <td>MeOH_combustion</td>\n",
       "      <td>0.9</td>\n",
       "      <td>megajoule</td>\n",
       "      <td>technosphere</td>\n",
       "    </tr>\n",
       "    <tr>\n",
       "      <th>3</th>\n",
       "      <td>Fuels_db_WtW_MJ</td>\n",
       "      <td>eMeOH_DAC_WtW_MJ</td>\n",
       "      <td>eMeOH_DAC_WtW_MJ</td>\n",
       "      <td>megajoule</td>\n",
       "      <td>process</td>\n",
       "      <td>Fuels_db_TtW_MJ</td>\n",
       "      <td>VLSFO_combustion</td>\n",
       "      <td>0.1</td>\n",
       "      <td>megajoule</td>\n",
       "      <td>technosphere</td>\n",
       "    </tr>\n",
       "    <tr>\n",
       "      <th>4</th>\n",
       "      <td>Fuels_db_WtW_MJ</td>\n",
       "      <td>eMeOH_DAC_WtW_MJ</td>\n",
       "      <td>eMeOH_DAC_WtW_MJ</td>\n",
       "      <td>megajoule</td>\n",
       "      <td>process</td>\n",
       "      <td>Fuels_db_WtW_MJ</td>\n",
       "      <td>eMeOH_DAC_WtW_MJ</td>\n",
       "      <td>1.0</td>\n",
       "      <td>megajoule</td>\n",
       "      <td>production</td>\n",
       "    </tr>\n",
       "  </tbody>\n",
       "</table>\n",
       "</div>"
      ],
      "text/plain": [
       "  Activity database     Activity code     Activity name Activity unit  \\\n",
       "0   Fuels_db_WtW_MJ  eMeOH_DAC_WtW_MJ  eMeOH_DAC_WtW_MJ     megajoule   \n",
       "1   Fuels_db_WtW_MJ  eMeOH_DAC_WtW_MJ  eMeOH_DAC_WtW_MJ     megajoule   \n",
       "2   Fuels_db_WtW_MJ  eMeOH_DAC_WtW_MJ  eMeOH_DAC_WtW_MJ     megajoule   \n",
       "3   Fuels_db_WtW_MJ  eMeOH_DAC_WtW_MJ  eMeOH_DAC_WtW_MJ     megajoule   \n",
       "4   Fuels_db_WtW_MJ  eMeOH_DAC_WtW_MJ  eMeOH_DAC_WtW_MJ     megajoule   \n",
       "\n",
       "  Activity type Exchange database    Exchange input  Exchange amount  \\\n",
       "0       process   Fuels_db_WtT_MJ         eMeOH_DAC              0.9   \n",
       "1       process   Fuels_db_WtT_MJ             VLSFO              0.1   \n",
       "2       process   Fuels_db_TtW_MJ   MeOH_combustion              0.9   \n",
       "3       process   Fuels_db_TtW_MJ  VLSFO_combustion              0.1   \n",
       "4       process   Fuels_db_WtW_MJ  eMeOH_DAC_WtW_MJ              1.0   \n",
       "\n",
       "  Exchange unit Exchange type  \n",
       "0     megajoule  technosphere  \n",
       "1     megajoule  technosphere  \n",
       "2     megajoule  technosphere  \n",
       "3     megajoule  technosphere  \n",
       "4     megajoule    production  "
      ]
     },
     "execution_count": 6,
     "metadata": {},
     "output_type": "execute_result"
    }
   ],
   "source": [
    "WtT_MJ = WtT_MJ.drop('Notes', 1)  # this removes the columns not needed\n",
    "WtT_MJ['Exchange uncertainty type'] = WtT_MJ['Exchange uncertainty type'].fillna(0).astype(int) # uncertainty as integers\n",
    "WtT_MJ.head()\n",
    "TtW_MJ = TtW_MJ.drop('Notes', 1)\n",
    "TtW_MJ['Exchange uncertainty type'] = TtW_MJ['Exchange uncertainty type'].fillna(0).astype(int) # uncertainty as integers\n",
    "TtW_MJ.head()\n",
    "WtW_MJ = WtW_MJ.drop('Notes', 1)\n",
    "WtW_MJ.head()"
   ]
  },
  {
   "cell_type": "markdown",
   "metadata": {},
   "source": [
    "Making a dict of the databases"
   ]
  },
  {
   "cell_type": "code",
   "execution_count": 7,
   "metadata": {},
   "outputs": [
    {
     "data": {
      "text/plain": [
       "{('Fuels_db_WtW_MJ', 'eMeOH_DAC_WtW_MJ'): {'name': 'eMeOH_DAC_WtW_MJ',\n",
       "  'unit': 'megajoule',\n",
       "  'type': 'process',\n",
       "  'exchanges': [{'input': ('Fuels_db_WtT_MJ', 'eMeOH_DAC'),\n",
       "    'amount': 0.9,\n",
       "    'unit': 'megajoule',\n",
       "    'type': 'technosphere'},\n",
       "   {'input': ('Fuels_db_WtT_MJ', 'VLSFO'),\n",
       "    'amount': 0.1,\n",
       "    'unit': 'megajoule',\n",
       "    'type': 'technosphere'},\n",
       "   {'input': ('Fuels_db_TtW_MJ', 'MeOH_combustion'),\n",
       "    'amount': 0.9,\n",
       "    'unit': 'megajoule',\n",
       "    'type': 'technosphere'},\n",
       "   {'input': ('Fuels_db_TtW_MJ', 'VLSFO_combustion'),\n",
       "    'amount': 0.1,\n",
       "    'unit': 'megajoule',\n",
       "    'type': 'technosphere'},\n",
       "   {'input': ('Fuels_db_WtW_MJ', 'eMeOH_DAC_WtW_MJ'),\n",
       "    'amount': 1.0,\n",
       "    'unit': 'megajoule',\n",
       "    'type': 'production'}]},\n",
       " ('Fuels_db_WtW_MJ', 'eMeOH_DOC_WtW_MJ'): {'name': 'eMeOH_DOC_WtW_MJ',\n",
       "  'unit': 'megajoule',\n",
       "  'type': 'process',\n",
       "  'exchanges': [{'input': ('Fuels_db_WtT_MJ', 'eMeOH_DOC'),\n",
       "    'amount': 0.9,\n",
       "    'unit': 'megajoule',\n",
       "    'type': 'technosphere'},\n",
       "   {'input': ('Fuels_db_WtT_MJ', 'VLSFO'),\n",
       "    'amount': 0.1,\n",
       "    'unit': 'megajoule',\n",
       "    'type': 'technosphere'},\n",
       "   {'input': ('Fuels_db_TtW_MJ', 'MeOH_combustion'),\n",
       "    'amount': 0.9,\n",
       "    'unit': 'megajoule',\n",
       "    'type': 'technosphere'},\n",
       "   {'input': ('Fuels_db_TtW_MJ', 'VLSFO_combustion'),\n",
       "    'amount': 0.1,\n",
       "    'unit': 'megajoule',\n",
       "    'type': 'technosphere'},\n",
       "   {'input': ('Fuels_db_WtW_MJ', 'eMeOH_DOC_WtW_MJ'),\n",
       "    'amount': 1.0,\n",
       "    'unit': 'megajoule',\n",
       "    'type': 'production'}]},\n",
       " ('Fuels_db_WtW_MJ', 'eMeOH_bio_WtW_MJ'): {'name': 'eMeOH_bio_WtW_MJ',\n",
       "  'unit': 'megajoule',\n",
       "  'type': 'process',\n",
       "  'exchanges': [{'input': ('Fuels_db_WtT_MJ', 'eMeOH_bio'),\n",
       "    'amount': 0.9,\n",
       "    'unit': 'megajoule',\n",
       "    'type': 'technosphere'},\n",
       "   {'input': ('Fuels_db_WtT_MJ', 'VLSFO'),\n",
       "    'amount': 0.1,\n",
       "    'unit': 'megajoule',\n",
       "    'type': 'technosphere'},\n",
       "   {'input': ('Fuels_db_TtW_MJ', 'MeOH_combustion'),\n",
       "    'amount': 0.9,\n",
       "    'unit': 'megajoule',\n",
       "    'type': 'technosphere'},\n",
       "   {'input': ('Fuels_db_TtW_MJ', 'VLSFO_combustion'),\n",
       "    'amount': 0.1,\n",
       "    'unit': 'megajoule',\n",
       "    'type': 'technosphere'},\n",
       "   {'input': ('Fuels_db_WtW_MJ', 'eMeOH_bio_WtW_MJ'),\n",
       "    'amount': 1.0,\n",
       "    'unit': 'megajoule',\n",
       "    'type': 'production'}]},\n",
       " ('Fuels_db_WtW_MJ', 'bioMeOH_WtW_MJ'): {'name': 'bioMeOH_WtW_MJ',\n",
       "  'unit': 'megajoule',\n",
       "  'type': 'process',\n",
       "  'exchanges': [{'input': ('Fuels_db_WtT_MJ', 'bioMeOH'),\n",
       "    'amount': 0.9,\n",
       "    'unit': 'megajoule',\n",
       "    'type': 'technosphere'},\n",
       "   {'input': ('Fuels_db_WtT_MJ', 'VLSFO'),\n",
       "    'amount': 0.1,\n",
       "    'unit': 'megajoule',\n",
       "    'type': 'technosphere'},\n",
       "   {'input': ('Fuels_db_TtW_MJ', 'MeOH_combustion'),\n",
       "    'amount': 0.9,\n",
       "    'unit': 'megajoule',\n",
       "    'type': 'technosphere'},\n",
       "   {'input': ('Fuels_db_TtW_MJ', 'VLSFO_combustion'),\n",
       "    'amount': 0.1,\n",
       "    'unit': 'megajoule',\n",
       "    'type': 'technosphere'},\n",
       "   {'input': ('Fuels_db_WtW_MJ', 'bioMeOH_WtW_MJ'),\n",
       "    'amount': 1.0,\n",
       "    'unit': 'megajoule',\n",
       "    'type': 'production'}]},\n",
       " ('Fuels_db_WtW_MJ', 'eNH3_WtW_MJ'): {'name': 'eNH3_WtW_MJ',\n",
       "  'unit': 'megajoule',\n",
       "  'type': 'process',\n",
       "  'exchanges': [{'input': ('Fuels_db_WtT_MJ', 'eNH3'),\n",
       "    'amount': 0.9,\n",
       "    'unit': 'megajoule',\n",
       "    'type': 'technosphere'},\n",
       "   {'input': ('Fuels_db_WtT_MJ', 'VLSFO'),\n",
       "    'amount': 0.1,\n",
       "    'unit': 'megajoule',\n",
       "    'type': 'technosphere'},\n",
       "   {'input': ('Fuels_db_TtW_MJ', 'NH3_combustion'),\n",
       "    'amount': 0.9,\n",
       "    'unit': 'megajoule',\n",
       "    'type': 'technosphere'},\n",
       "   {'input': ('Fuels_db_TtW_MJ', 'VLSFO_combustion'),\n",
       "    'amount': 0.1,\n",
       "    'unit': 'megajoule',\n",
       "    'type': 'technosphere'},\n",
       "   {'input': ('Fuels_db_WtW_MJ', 'eNH3_WtW_MJ'),\n",
       "    'amount': 1.0,\n",
       "    'unit': 'megajoule',\n",
       "    'type': 'production'}]},\n",
       " ('Fuels_db_WtW_MJ', 'NH3_CCS_WtW_MJ'): {'name': 'NH3_CCS_WtW_MJ',\n",
       "  'unit': 'megajoule',\n",
       "  'type': 'process',\n",
       "  'exchanges': [{'input': ('Fuels_db_WtT_MJ', 'NH3_CCS'),\n",
       "    'amount': 0.9,\n",
       "    'unit': 'megajoule',\n",
       "    'type': 'technosphere'},\n",
       "   {'input': ('Fuels_db_WtT_MJ', 'VLSFO'),\n",
       "    'amount': 0.1,\n",
       "    'unit': 'megajoule',\n",
       "    'type': 'technosphere'},\n",
       "   {'input': ('Fuels_db_TtW_MJ', 'NH3_combustion'),\n",
       "    'amount': 0.9,\n",
       "    'unit': 'megajoule',\n",
       "    'type': 'technosphere'},\n",
       "   {'input': ('Fuels_db_TtW_MJ', 'VLSFO_combustion'),\n",
       "    'amount': 0.1,\n",
       "    'unit': 'megajoule',\n",
       "    'type': 'technosphere'},\n",
       "   {'input': ('Fuels_db_WtW_MJ', 'NH3_CCS_WtW_MJ'),\n",
       "    'amount': 1.0,\n",
       "    'unit': 'megajoule',\n",
       "    'type': 'production'}]},\n",
       " ('Fuels_db_WtW_MJ', 'NH3_FGC_WtW_MJ'): {'name': 'NH3_FGC_WtW_MJ',\n",
       "  'unit': 'megajoule',\n",
       "  'type': 'process',\n",
       "  'exchanges': [{'input': ('Fuels_db_WtT_MJ', 'NH3_FGC'),\n",
       "    'amount': 0.9,\n",
       "    'unit': 'megajoule',\n",
       "    'type': 'technosphere'},\n",
       "   {'input': ('Fuels_db_WtT_MJ', 'VLSFO'),\n",
       "    'amount': 0.1,\n",
       "    'unit': 'megajoule',\n",
       "    'type': 'technosphere'},\n",
       "   {'input': ('Fuels_db_TtW_MJ', 'NH3_combustion'),\n",
       "    'amount': 0.9,\n",
       "    'unit': 'megajoule',\n",
       "    'type': 'technosphere'},\n",
       "   {'input': ('Fuels_db_TtW_MJ', 'VLSFO_combustion'),\n",
       "    'amount': 0.1,\n",
       "    'unit': 'megajoule',\n",
       "    'type': 'technosphere'},\n",
       "   {'input': ('Fuels_db_WtW_MJ', 'NH3_FGC_WtW_MJ'),\n",
       "    'amount': 1.0,\n",
       "    'unit': 'megajoule',\n",
       "    'type': 'production'}]},\n",
       " ('Fuels_db_WtW_MJ', 'LNG_WtW_MJ'): {'name': 'LNG_WtW_MJ',\n",
       "  'unit': 'megajoule',\n",
       "  'type': 'process',\n",
       "  'exchanges': [{'input': ('Fuels_db_WtT_MJ', 'LNG'),\n",
       "    'amount': 0.98,\n",
       "    'unit': 'megajoule',\n",
       "    'type': 'technosphere'},\n",
       "   {'input': ('Fuels_db_WtT_MJ', 'VLSFO'),\n",
       "    'amount': 0.02,\n",
       "    'unit': 'megajoule',\n",
       "    'type': 'technosphere'},\n",
       "   {'input': ('Fuels_db_TtW_MJ', 'LNG_combustion'),\n",
       "    'amount': 0.98,\n",
       "    'unit': 'megajoule',\n",
       "    'type': 'technosphere'},\n",
       "   {'input': ('Fuels_db_TtW_MJ', 'VLSFO_combustion'),\n",
       "    'amount': 0.02,\n",
       "    'unit': 'megajoule',\n",
       "    'type': 'technosphere'},\n",
       "   {'input': ('Fuels_db_WtW_MJ', 'LNG_WtW_MJ'),\n",
       "    'amount': 1.0,\n",
       "    'unit': 'megajoule',\n",
       "    'type': 'production'}]},\n",
       " ('Fuels_db_WtW_MJ', 'VLSFO_WtW_MJ'): {'name': 'VLSFO_WtW_MJ',\n",
       "  'unit': 'megajoule',\n",
       "  'type': 'process',\n",
       "  'exchanges': [{'input': ('Fuels_db_WtT_MJ', 'VLSFO'),\n",
       "    'amount': 1.0,\n",
       "    'unit': 'megajoule',\n",
       "    'type': 'technosphere'},\n",
       "   {'input': ('Fuels_db_TtW_MJ', 'VLSFO_combustion'),\n",
       "    'amount': 1.0,\n",
       "    'unit': 'megajoule',\n",
       "    'type': 'technosphere'},\n",
       "   {'input': ('Fuels_db_WtW_MJ', 'VLSFO_WtW_MJ'),\n",
       "    'amount': 1.0,\n",
       "    'unit': 'megajoule',\n",
       "    'type': 'production'}]},\n",
       " ('Fuels_db_WtW_MJ', 'DME_WtW_MJ'): {'name': 'DME_WtW_MJ',\n",
       "  'unit': 'megajoule',\n",
       "  'type': 'process',\n",
       "  'exchanges': [{'input': ('Fuels_db_WtT_MJ', 'DME'),\n",
       "    'amount': 0.9,\n",
       "    'unit': 'megajoule',\n",
       "    'type': 'technosphere'},\n",
       "   {'input': ('Fuels_db_WtT_MJ', 'VLSFO'),\n",
       "    'amount': 0.1,\n",
       "    'unit': 'megajoule',\n",
       "    'type': 'technosphere'},\n",
       "   {'input': ('Fuels_db_TtW_MJ', 'DME_combustion'),\n",
       "    'amount': 0.9,\n",
       "    'unit': 'megajoule',\n",
       "    'type': 'technosphere'},\n",
       "   {'input': ('Fuels_db_TtW_MJ', 'VLSFO_combustion'),\n",
       "    'amount': 0.1,\n",
       "    'unit': 'megajoule',\n",
       "    'type': 'technosphere'},\n",
       "   {'input': ('Fuels_db_WtW_MJ', 'DME_WtW_MJ'),\n",
       "    'amount': 1.0,\n",
       "    'unit': 'megajoule',\n",
       "    'type': 'production'}]},\n",
       " ('Fuels_db_WtW_MJ', 'PO_fast_WtW_MJ'): {'name': 'PO_fast_WtW_MJ',\n",
       "  'unit': 'megajoule',\n",
       "  'type': 'process',\n",
       "  'exchanges': [{'input': ('Fuels_db_WtT_MJ', 'PO_fast'),\n",
       "    'amount': 0.9,\n",
       "    'unit': 'megajoule',\n",
       "    'type': 'technosphere'},\n",
       "   {'input': ('Fuels_db_WtT_MJ', 'VLSFO'),\n",
       "    'amount': 0.1,\n",
       "    'unit': 'megajoule',\n",
       "    'type': 'technosphere'},\n",
       "   {'input': ('Fuels_db_TtW_MJ', 'PO_combustion'),\n",
       "    'amount': 0.9,\n",
       "    'unit': 'megajoule',\n",
       "    'type': 'technosphere'},\n",
       "   {'input': ('Fuels_db_TtW_MJ', 'VLSFO_combustion'),\n",
       "    'amount': 0.1,\n",
       "    'unit': 'megajoule',\n",
       "    'type': 'technosphere'},\n",
       "   {'input': ('Fuels_db_WtW_MJ', 'PO_fast_WtW_MJ'),\n",
       "    'amount': 1.0,\n",
       "    'unit': 'megajoule',\n",
       "    'type': 'production'}]},\n",
       " ('Fuels_db_WtW_MJ', 'PO_slow_WtW_MJ'): {'name': 'PO_slow_WtW_MJ',\n",
       "  'unit': 'megajoule',\n",
       "  'type': 'process',\n",
       "  'exchanges': [{'input': ('Fuels_db_WtT_MJ', 'PO_slow'),\n",
       "    'amount': 0.9,\n",
       "    'unit': 'megajoule',\n",
       "    'type': 'technosphere'},\n",
       "   {'input': ('Fuels_db_WtT_MJ', 'VLSFO'),\n",
       "    'amount': 0.1,\n",
       "    'unit': 'megajoule',\n",
       "    'type': 'technosphere'},\n",
       "   {'input': ('Fuels_db_TtW_MJ', 'PO_combustion'),\n",
       "    'amount': 0.9,\n",
       "    'unit': 'megajoule',\n",
       "    'type': 'technosphere'},\n",
       "   {'input': ('Fuels_db_TtW_MJ', 'VLSFO_combustion'),\n",
       "    'amount': 0.1,\n",
       "    'unit': 'megajoule',\n",
       "    'type': 'technosphere'},\n",
       "   {'input': ('Fuels_db_WtW_MJ', 'PO_slow_WtW_MJ'),\n",
       "    'amount': 1.0,\n",
       "    'unit': 'megajoule',\n",
       "    'type': 'production'}]}}"
      ]
     },
     "execution_count": 7,
     "metadata": {},
     "output_type": "execute_result"
    }
   ],
   "source": [
    "Fuels_WtT_MJ = lci_to_bw2(WtT_MJ) # a function from the lci_to_bw2 module\n",
    "Fuels_WtT_MJ\n",
    "Fuels_TtW_MJ = lci_to_bw2(TtW_MJ)\n",
    "Fuels_TtW_MJ\n",
    "Fuels_WtW_MJ = lci_to_bw2(WtW_MJ)\n",
    "Fuels_WtW_MJ"
   ]
  },
  {
   "cell_type": "markdown",
   "metadata": {},
   "source": [
    "Writing the databases"
   ]
  },
  {
   "cell_type": "code",
   "execution_count": 8,
   "metadata": {},
   "outputs": [
    {
     "name": "stderr",
     "output_type": "stream",
     "text": [
      "Writing activities to SQLite3 database:\n",
      "0% [################] 100% | ETA: 00:00:00\n",
      "Total time elapsed: 00:00:00\n"
     ]
    },
    {
     "name": "stdout",
     "output_type": "stream",
     "text": [
      "Title: Writing activities to SQLite3 database:\n",
      "  Started: 08/06/2024 15:58:19\n",
      "  Finished: 08/06/2024 15:58:19\n",
      "  Total time elapsed: 00:00:00\n",
      "  CPU %: 99.20\n",
      "  Memory %: 2.58\n"
     ]
    },
    {
     "name": "stderr",
     "output_type": "stream",
     "text": [
      "Writing activities to SQLite3 database:\n",
      "0% [######] 100% | ETA: 00:00:00\n",
      "Total time elapsed: 00:00:00\n"
     ]
    },
    {
     "name": "stdout",
     "output_type": "stream",
     "text": [
      "Title: Writing activities to SQLite3 database:\n",
      "  Started: 08/06/2024 15:58:20\n",
      "  Finished: 08/06/2024 15:58:20\n",
      "  Total time elapsed: 00:00:00\n",
      "  CPU %: 0.00\n",
      "  Memory %: 2.58\n"
     ]
    },
    {
     "name": "stderr",
     "output_type": "stream",
     "text": [
      "Writing activities to SQLite3 database:\n",
      "0% [############] 100% | ETA: 00:00:00\n",
      "Total time elapsed: 00:00:00\n"
     ]
    },
    {
     "name": "stdout",
     "output_type": "stream",
     "text": [
      "Title: Writing activities to SQLite3 database:\n",
      "  Started: 08/06/2024 15:58:20\n",
      "  Finished: 08/06/2024 15:58:20\n",
      "  Total time elapsed: 00:00:00\n",
      "  CPU %: 0.00\n",
      "  Memory %: 2.59\n"
     ]
    }
   ],
   "source": [
    "if 'Fuels_db_WtT_MJ' in bw.databases: del bw.databases['Fuels_db_WtT_MJ']\n",
    "Fuels_db_WtT_MJ = bw.Database('Fuels_db_WtT_MJ') # it works because the database name in the excel file is the same\n",
    "Fuels_db_WtT_MJ.write(Fuels_WtT_MJ)\n",
    "if 'Fuels_db_TtW_MJ' in bw.databases: del bw.databases['Fuels_db_TtW_MJ']\n",
    "Fuels_db_TtW_MJ = bw.Database('Fuels_db_TtW_MJ')\n",
    "Fuels_db_TtW_MJ.write(Fuels_TtW_MJ)\n",
    "if 'Fuels_db_WtW_MJ' in bw.databases: del bw.databases['Fuels_db_WtW_MJ']\n",
    "Fuels_db_WtW_MJ = bw.Database('Fuels_db_WtW_MJ') \n",
    "Fuels_db_WtW_MJ.write(Fuels_WtW_MJ)"
   ]
  },
  {
   "cell_type": "markdown",
   "metadata": {},
   "source": [
    "Check that they have imported properly:"
   ]
  },
  {
   "cell_type": "code",
   "execution_count": 9,
   "metadata": {},
   "outputs": [
    {
     "data": {
      "text/plain": [
       "Databases dictionary with 23 objects, including:\n",
       "\tFuels_db_SA1\n",
       "\tFuels_db_SA1a\n",
       "\tFuels_db_SA1b\n",
       "\tFuels_db_SA1c\n",
       "\tFuels_db_SA1d\n",
       "\tFuels_db_SA1e\n",
       "\tFuels_db_SA1f\n",
       "\tFuels_db_SA2\n",
       "\tFuels_db_SA2a\n",
       "\tFuels_db_SA2b\n",
       "Use `list(this object)` to get the complete list."
      ]
     },
     "execution_count": 9,
     "metadata": {},
     "output_type": "execute_result"
    }
   ],
   "source": [
    "bw.databases"
   ]
  },
  {
   "cell_type": "markdown",
   "metadata": {},
   "source": [
    "Now that they are there, make a list of the activities in these databases:"
   ]
  },
  {
   "cell_type": "code",
   "execution_count": 5,
   "metadata": {},
   "outputs": [],
   "source": [
    "Fuels_WtT = [(act['database'], act['code']) for act in bw.Database('Fuels_db_WtT_MJ')]\n",
    "Fuels_TtW = [(act['database'], act['code']) for act in bw.Database('Fuels_db_TtW_MJ')]\n",
    "Fuels_WtW = [(act['database'], act['code']) for act in bw.Database('Fuels_db_WtW_MJ')]"
   ]
  },
  {
   "cell_type": "code",
   "execution_count": 12,
   "metadata": {},
   "outputs": [
    {
     "data": {
      "text/plain": [
       "[('Fuels_db_WtT_MJ', 'DME'),\n",
       " ('Fuels_db_WtT_MJ', 'VLSFO'),\n",
       " ('Fuels_db_WtT_MJ', 'Straw'),\n",
       " ('Fuels_db_WtT_MJ', 'NH3_CCS'),\n",
       " ('Fuels_db_WtT_MJ', 'eMeOH_bio'),\n",
       " ('Fuels_db_WtT_MJ', 'bioMeOH'),\n",
       " ('Fuels_db_WtT_MJ', 'eNH3'),\n",
       " ('Fuels_db_WtT_MJ', 'DAC'),\n",
       " ('Fuels_db_WtT_MJ', 'Wood'),\n",
       " ('Fuels_db_WtT_MJ', 'PO_slow'),\n",
       " ('Fuels_db_WtT_MJ', 'NH3_FGC'),\n",
       " ('Fuels_db_WtT_MJ', 'LNG'),\n",
       " ('Fuels_db_WtT_MJ', 'eH2'),\n",
       " ('Fuels_db_WtT_MJ', 'eMeOH_DAC'),\n",
       " ('Fuels_db_WtT_MJ', 'PO_fast'),\n",
       " ('Fuels_db_WtT_MJ', 'eMeOH_DOC')]"
      ]
     },
     "execution_count": 12,
     "metadata": {},
     "output_type": "execute_result"
    }
   ],
   "source": [
    "Fuels_WtT\n",
    "# Here, all activities are included, even capital goods and eh2. Remove these from the figs"
   ]
  }
 ],
 "metadata": {
  "kernelspec": {
   "display_name": "Python 3.11.0",
   "language": "python",
   "name": "python3"
  },
  "language_info": {
   "codemirror_mode": {
    "name": "ipython",
    "version": 3
   },
   "file_extension": ".py",
   "mimetype": "text/x-python",
   "name": "python",
   "nbconvert_exporter": "python",
   "pygments_lexer": "ipython3",
   "version": "3.11.0"
  },
  "orig_nbformat": 4,
  "vscode": {
   "interpreter": {
    "hash": "82564b9d83d215aeea51e5be1898001271ba837eb23ba5d8f9bcea7057e5a82c"
   }
  }
 },
 "nbformat": 4,
 "nbformat_minor": 2
}

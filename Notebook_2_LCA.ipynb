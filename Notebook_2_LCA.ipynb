{
 "cells": [
  {
   "cell_type": "markdown",
   "metadata": {},
   "source": [
    "## Project: Maritime Fuels LCA\n",
    "### Notebook 2: Running the baseline LCA calculations\n",
    "#### This notebook is developed by Megan Roux and Massimo Pizzol, and includes adaptions of code provided by Massimo Pizzol, Nils Thonemann and Chris Mutel"
   ]
  },
  {
   "cell_type": "markdown",
   "metadata": {},
   "source": [
    "This notebook relates to work done for the publication 'Consequential LCA of alternative maritime fuels' which can be found at: doi"
   ]
  },
  {
   "cell_type": "markdown",
   "metadata": {},
   "source": [
    "Begin by importing all relevant packages (ensure you are in the right environment):"
   ]
  },
  {
   "cell_type": "code",
   "execution_count": 1,
   "metadata": {},
   "outputs": [],
   "source": [
    "# Note: must be environment bw2\n",
    "import brightway2 as bw\n",
    "import pandas as pd\n",
    "import numpy as np\n",
    "import matplotlib\n",
    "from lci_to_bw2 import * # this file has to be in the same folder as the notebook and raw data"
   ]
  },
  {
   "cell_type": "markdown",
   "metadata": {},
   "source": [
    "Set the project (same as in Notebook 1):"
   ]
  },
  {
   "cell_type": "code",
   "execution_count": 2,
   "metadata": {},
   "outputs": [],
   "source": [
    "bw.projects.set_current(\"fuels\")"
   ]
  },
  {
   "cell_type": "markdown",
   "metadata": {},
   "source": [
    "Now check which databases are in the project:\n",
    "\n",
    "Should be ecoinvent 3.9 consequential, bioshphere3, Fuels_WtT, Fuels_TtW and Fuels_WtW. If not, go back to Notebook 1."
   ]
  },
  {
   "cell_type": "code",
   "execution_count": 3,
   "metadata": {},
   "outputs": [
    {
     "data": {
      "text/plain": [
       "Databases dictionary with 23 objects, including:\n",
       "\tFuels_db_SA1\n",
       "\tFuels_db_SA1a\n",
       "\tFuels_db_SA1b\n",
       "\tFuels_db_SA1c\n",
       "\tFuels_db_SA1d\n",
       "\tFuels_db_SA1e\n",
       "\tFuels_db_SA1f\n",
       "\tFuels_db_SA2\n",
       "\tFuels_db_SA2a\n",
       "\tFuels_db_SA2b\n",
       "Use `list(this object)` to get the complete list."
      ]
     },
     "execution_count": 3,
     "metadata": {},
     "output_type": "execute_result"
    }
   ],
   "source": [
    "bw.databases"
   ]
  },
  {
   "cell_type": "code",
   "execution_count": 4,
   "metadata": {},
   "outputs": [],
   "source": [
    "ei39db = bw.Database(\"ecoinvent 3.9 conseq\")\n",
    "biodb = bw.Database(\"biosphere3\")"
   ]
  },
  {
   "cell_type": "code",
   "execution_count": 5,
   "metadata": {},
   "outputs": [],
   "source": [
    "Fuels_WtT = [(act['database'], act['code']) for act in bw.Database('Fuels_db_WtT_MJ')]\n",
    "Fuels_TtW = [(act['database'], act['code']) for act in bw.Database('Fuels_db_TtW_MJ')]\n",
    "Fuels_WtW = [(act['database'], act['code']) for act in bw.Database('Fuels_db_WtW_MJ')]"
   ]
  },
  {
   "cell_type": "markdown",
   "metadata": {},
   "source": [
    "Check the activities in your foreground database:"
   ]
  },
  {
   "cell_type": "code",
   "execution_count": 6,
   "metadata": {},
   "outputs": [
    {
     "data": {
      "text/plain": [
       "[('Fuels_db_WtT_MJ', 'VLSFO'),\n",
       " ('Fuels_db_WtT_MJ', 'bioMeOH'),\n",
       " ('Fuels_db_WtT_MJ', 'PO_slow'),\n",
       " ('Fuels_db_WtT_MJ', 'DAC'),\n",
       " ('Fuels_db_WtT_MJ', 'NH3_CCS'),\n",
       " ('Fuels_db_WtT_MJ', 'LNG'),\n",
       " ('Fuels_db_WtT_MJ', 'DME'),\n",
       " ('Fuels_db_WtT_MJ', 'Wood'),\n",
       " ('Fuels_db_WtT_MJ', 'eH2'),\n",
       " ('Fuels_db_WtT_MJ', 'eNH3'),\n",
       " ('Fuels_db_WtT_MJ', 'Straw'),\n",
       " ('Fuels_db_WtT_MJ', 'eMeOH_DOC'),\n",
       " ('Fuels_db_WtT_MJ', 'eMeOH_DAC'),\n",
       " ('Fuels_db_WtT_MJ', 'eMeOH_bio'),\n",
       " ('Fuels_db_WtT_MJ', 'PO_fast')]"
      ]
     },
     "execution_count": 6,
     "metadata": {},
     "output_type": "execute_result"
    }
   ],
   "source": [
    "Fuels_WtT\n",
    "# Here, all activities are included, even capital goods and eh2. \n",
    "# Pick any of the foreground databases"
   ]
  },
  {
   "cell_type": "markdown",
   "metadata": {},
   "source": [
    "We want to test that everything has worked, so we will do a quick LCA over one of the activities for one impact category.\n",
    "\n",
    "First, choose an LCIA method (e.g. EF3.1 in the case of this study):"
   ]
  },
  {
   "cell_type": "code",
   "execution_count": 7,
   "metadata": {},
   "outputs": [],
   "source": [
    "EF31 = [method for method in bw.methods if \"EF v3.1\" in str(method) \n",
    "        and \"no LT\" not in str(method)\n",
    "        and \"EN15804\" not in str(method)]\n",
    "# EF31"
   ]
  },
  {
   "cell_type": "markdown",
   "metadata": {},
   "source": [
    "A test over one activity and one impact category to see if the LCA works:"
   ]
  },
  {
   "cell_type": "code",
   "execution_count": 9,
   "metadata": {},
   "outputs": [
    {
     "name": "stdout",
     "output_type": "stream",
     "text": [
      "('EF v3.1', 'climate change', 'global warming potential (GWP100)')\n",
      "('Fuels_db_WtT_MJ', 'NH3_CCS')\n",
      "0.16148296038049706\n"
     ]
    }
   ],
   "source": [
    "# For eMeOH_DAC climate change impacts using EF31\n",
    "mymethod = EF31[1]\n",
    "print(mymethod)\n",
    "Fuels_WtT[4]\n",
    "myact = Fuels_WtT[4]\n",
    "print(myact)\n",
    "functional_unit = {myact: 1} \n",
    "lca = bw.LCA(functional_unit, mymethod)\n",
    "lca.lci()\n",
    "lca.lcia()\n",
    "print(lca.score)"
   ]
  },
  {
   "cell_type": "markdown",
   "metadata": {},
   "source": [
    "The function to perform the LCA over all activities in all databases:"
   ]
  },
  {
   "cell_type": "code",
   "execution_count": 7,
   "metadata": {},
   "outputs": [],
   "source": [
    "def dolcacalc(myact, mydemand, mymethod):\n",
    "    my_fu = {myact: mydemand} \n",
    "    lca = bw.LCA(my_fu, mymethod)\n",
    "    lca.lci()\n",
    "    lca.lcia()\n",
    "    return lca.score\n",
    "\n",
    "# For WtT\n",
    "def getLCAresults(list_acts, mymethod):\n",
    "    \n",
    "    all_activities = []\n",
    "    results = []\n",
    "    for a in list_acts:\n",
    "        act = bw.Database(a[0]).get(a[1])\n",
    "        all_activities.append(act['name'])\n",
    "        results.append(dolcacalc(act,1,mymethod)) # 1 stays for one unit of each process\n",
    "        #print(act['name'])\n",
    "     \n",
    "    results_dict = dict(zip(all_activities, results))\n",
    "    \n",
    "    return results_dict"
   ]
  },
  {
   "cell_type": "markdown",
   "metadata": {},
   "source": [
    "Running the LCA calculations:"
   ]
  },
  {
   "cell_type": "code",
   "execution_count": 62,
   "metadata": {},
   "outputs": [],
   "source": [
    "Results_WtT_EF31 = []\n",
    "for m in EF31:\n",
    "    results_all_fuels_WtT = getLCAresults(Fuels_WtT,m) # total impact per tech\n",
    "    Results_WtT_EF31.append(results_all_fuels_WtT)\n",
    "\n",
    "Results_TtW_EF31 = []\n",
    "for m in EF31:\n",
    "    results_all_fuels_TtW = getLCAresults(Fuels_TtW,m) # total impact per tech\n",
    "    Results_TtW_EF31.append(results_all_fuels_TtW)\n",
    "\n",
    "Results_WtW_EF31 = []\n",
    "for m in EF31:\n",
    "    results_all_fuels_WtW = getLCAresults(Fuels_WtW,m) # total impact per tech\n",
    "    Results_WtW_EF31.append(results_all_fuels_WtW)"
   ]
  },
  {
   "cell_type": "markdown",
   "metadata": {},
   "source": [
    "Making everything nice and pretty and exporting to Excel:"
   ]
  },
  {
   "cell_type": "code",
   "execution_count": 17,
   "metadata": {},
   "outputs": [],
   "source": [
    "methods_names = []\n",
    "for m in EF31:\n",
    "    m_name = ' '.join(m)\n",
    "    methods_names.append(m_name)"
   ]
  },
  {
   "cell_type": "code",
   "execution_count": 18,
   "metadata": {},
   "outputs": [
    {
     "data": {
      "text/html": [
       "<div>\n",
       "<style scoped>\n",
       "    .dataframe tbody tr th:only-of-type {\n",
       "        vertical-align: middle;\n",
       "    }\n",
       "\n",
       "    .dataframe tbody tr th {\n",
       "        vertical-align: top;\n",
       "    }\n",
       "\n",
       "    .dataframe thead th {\n",
       "        text-align: right;\n",
       "    }\n",
       "</style>\n",
       "<table border=\"1\" class=\"dataframe\">\n",
       "  <thead>\n",
       "    <tr style=\"text-align: right;\">\n",
       "      <th></th>\n",
       "      <th>DME</th>\n",
       "      <th>VLSFO</th>\n",
       "      <th>Straw</th>\n",
       "      <th>NH3_CCS</th>\n",
       "      <th>eMeOH_bio</th>\n",
       "      <th>bioMeOH</th>\n",
       "      <th>eNH3</th>\n",
       "      <th>DAC</th>\n",
       "      <th>Wood</th>\n",
       "      <th>PO_slow</th>\n",
       "      <th>NH3_FGC</th>\n",
       "      <th>LNG</th>\n",
       "      <th>eH2</th>\n",
       "      <th>eMeOH_DAC</th>\n",
       "      <th>PO_fast</th>\n",
       "      <th>eMeOH_DOC</th>\n",
       "    </tr>\n",
       "  </thead>\n",
       "  <tbody>\n",
       "    <tr>\n",
       "      <th>EF v3.1 acidification accumulated exceedance (AE)</th>\n",
       "      <td>0.000941</td>\n",
       "      <td>0.000132</td>\n",
       "      <td>0.000315</td>\n",
       "      <td>0.000627</td>\n",
       "      <td>0.000526</td>\n",
       "      <td>0.000722</td>\n",
       "      <td>0.000418</td>\n",
       "      <td>0.000006</td>\n",
       "      <td>0.000693</td>\n",
       "      <td>0.001151</td>\n",
       "      <td>0.000723</td>\n",
       "      <td>0.000030</td>\n",
       "      <td>0.010953</td>\n",
       "      <td>0.000637</td>\n",
       "      <td>0.001058</td>\n",
       "      <td>-4853.079533</td>\n",
       "    </tr>\n",
       "    <tr>\n",
       "      <th>EF v3.1 climate change global warming potential (GWP100)</th>\n",
       "      <td>0.171342</td>\n",
       "      <td>0.039751</td>\n",
       "      <td>0.141122</td>\n",
       "      <td>0.203900</td>\n",
       "      <td>0.092162</td>\n",
       "      <td>0.122900</td>\n",
       "      <td>0.078630</td>\n",
       "      <td>0.003847</td>\n",
       "      <td>0.299936</td>\n",
       "      <td>0.019203</td>\n",
       "      <td>0.161483</td>\n",
       "      <td>0.021443</td>\n",
       "      <td>2.085421</td>\n",
       "      <td>0.159885</td>\n",
       "      <td>0.051233</td>\n",
       "      <td>16824.718837</td>\n",
       "    </tr>\n",
       "    <tr>\n",
       "      <th>EF v3.1 climate change: biogenic global warming potential (GWP100)</th>\n",
       "      <td>0.000123</td>\n",
       "      <td>0.000009</td>\n",
       "      <td>0.000015</td>\n",
       "      <td>0.000105</td>\n",
       "      <td>0.000066</td>\n",
       "      <td>0.000089</td>\n",
       "      <td>0.000053</td>\n",
       "      <td>-0.000004</td>\n",
       "      <td>0.000039</td>\n",
       "      <td>0.000037</td>\n",
       "      <td>0.000113</td>\n",
       "      <td>0.000001</td>\n",
       "      <td>0.001711</td>\n",
       "      <td>0.000053</td>\n",
       "      <td>0.000031</td>\n",
       "      <td>20.681994</td>\n",
       "    </tr>\n",
       "    <tr>\n",
       "      <th>EF v3.1 climate change: fossil global warming potential (GWP100)</th>\n",
       "      <td>0.154453</td>\n",
       "      <td>0.039733</td>\n",
       "      <td>0.055665</td>\n",
       "      <td>0.203693</td>\n",
       "      <td>0.084569</td>\n",
       "      <td>0.108373</td>\n",
       "      <td>0.078397</td>\n",
       "      <td>0.003806</td>\n",
       "      <td>0.210086</td>\n",
       "      <td>-0.068842</td>\n",
       "      <td>0.161256</td>\n",
       "      <td>0.021438</td>\n",
       "      <td>2.076421</td>\n",
       "      <td>0.159643</td>\n",
       "      <td>0.035911</td>\n",
       "      <td>16762.571213</td>\n",
       "    </tr>\n",
       "    <tr>\n",
       "      <th>EF v3.1 climate change: land use and land use change global warming potential (GWP100)</th>\n",
       "      <td>0.016766</td>\n",
       "      <td>0.000009</td>\n",
       "      <td>0.085442</td>\n",
       "      <td>0.000103</td>\n",
       "      <td>0.007528</td>\n",
       "      <td>0.014438</td>\n",
       "      <td>0.000180</td>\n",
       "      <td>0.000046</td>\n",
       "      <td>0.089811</td>\n",
       "      <td>0.088008</td>\n",
       "      <td>0.000114</td>\n",
       "      <td>0.000003</td>\n",
       "      <td>0.007289</td>\n",
       "      <td>0.000190</td>\n",
       "      <td>0.015290</td>\n",
       "      <td>41.465631</td>\n",
       "    </tr>\n",
       "  </tbody>\n",
       "</table>\n",
       "</div>"
      ],
      "text/plain": [
       "                                                         DME     VLSFO  \\\n",
       "EF v3.1 acidification accumulated exceedance (AE)   0.000941  0.000132   \n",
       "EF v3.1 climate change global warming potential...  0.171342  0.039751   \n",
       "EF v3.1 climate change: biogenic global warming...  0.000123  0.000009   \n",
       "EF v3.1 climate change: fossil global warming p...  0.154453  0.039733   \n",
       "EF v3.1 climate change: land use and land use c...  0.016766  0.000009   \n",
       "\n",
       "                                                       Straw   NH3_CCS  \\\n",
       "EF v3.1 acidification accumulated exceedance (AE)   0.000315  0.000627   \n",
       "EF v3.1 climate change global warming potential...  0.141122  0.203900   \n",
       "EF v3.1 climate change: biogenic global warming...  0.000015  0.000105   \n",
       "EF v3.1 climate change: fossil global warming p...  0.055665  0.203693   \n",
       "EF v3.1 climate change: land use and land use c...  0.085442  0.000103   \n",
       "\n",
       "                                                    eMeOH_bio   bioMeOH  \\\n",
       "EF v3.1 acidification accumulated exceedance (AE)    0.000526  0.000722   \n",
       "EF v3.1 climate change global warming potential...   0.092162  0.122900   \n",
       "EF v3.1 climate change: biogenic global warming...   0.000066  0.000089   \n",
       "EF v3.1 climate change: fossil global warming p...   0.084569  0.108373   \n",
       "EF v3.1 climate change: land use and land use c...   0.007528  0.014438   \n",
       "\n",
       "                                                        eNH3       DAC  \\\n",
       "EF v3.1 acidification accumulated exceedance (AE)   0.000418  0.000006   \n",
       "EF v3.1 climate change global warming potential...  0.078630  0.003847   \n",
       "EF v3.1 climate change: biogenic global warming...  0.000053 -0.000004   \n",
       "EF v3.1 climate change: fossil global warming p...  0.078397  0.003806   \n",
       "EF v3.1 climate change: land use and land use c...  0.000180  0.000046   \n",
       "\n",
       "                                                        Wood   PO_slow  \\\n",
       "EF v3.1 acidification accumulated exceedance (AE)   0.000693  0.001151   \n",
       "EF v3.1 climate change global warming potential...  0.299936  0.019203   \n",
       "EF v3.1 climate change: biogenic global warming...  0.000039  0.000037   \n",
       "EF v3.1 climate change: fossil global warming p...  0.210086 -0.068842   \n",
       "EF v3.1 climate change: land use and land use c...  0.089811  0.088008   \n",
       "\n",
       "                                                     NH3_FGC       LNG  \\\n",
       "EF v3.1 acidification accumulated exceedance (AE)   0.000723  0.000030   \n",
       "EF v3.1 climate change global warming potential...  0.161483  0.021443   \n",
       "EF v3.1 climate change: biogenic global warming...  0.000113  0.000001   \n",
       "EF v3.1 climate change: fossil global warming p...  0.161256  0.021438   \n",
       "EF v3.1 climate change: land use and land use c...  0.000114  0.000003   \n",
       "\n",
       "                                                         eH2  eMeOH_DAC  \\\n",
       "EF v3.1 acidification accumulated exceedance (AE)   0.010953   0.000637   \n",
       "EF v3.1 climate change global warming potential...  2.085421   0.159885   \n",
       "EF v3.1 climate change: biogenic global warming...  0.001711   0.000053   \n",
       "EF v3.1 climate change: fossil global warming p...  2.076421   0.159643   \n",
       "EF v3.1 climate change: land use and land use c...  0.007289   0.000190   \n",
       "\n",
       "                                                     PO_fast     eMeOH_DOC  \n",
       "EF v3.1 acidification accumulated exceedance (AE)   0.001058  -4853.079533  \n",
       "EF v3.1 climate change global warming potential...  0.051233  16824.718837  \n",
       "EF v3.1 climate change: biogenic global warming...  0.000031     20.681994  \n",
       "EF v3.1 climate change: fossil global warming p...  0.035911  16762.571213  \n",
       "EF v3.1 climate change: land use and land use c...  0.015290     41.465631  "
      ]
     },
     "execution_count": 18,
     "metadata": {},
     "output_type": "execute_result"
    }
   ],
   "source": [
    "my_output = pd.DataFrame(Results_WtT_EF31, index=methods_names)\n",
    "my_output.head()"
   ]
  },
  {
   "cell_type": "code",
   "execution_count": 19,
   "metadata": {},
   "outputs": [],
   "source": [
    "# Exporting to Excel\n",
    "my_output.to_excel('Results_Fuels_WtT_MJ_EF31.xlsx')"
   ]
  },
  {
   "cell_type": "code",
   "execution_count": 66,
   "metadata": {},
   "outputs": [
    {
     "data": {
      "text/html": [
       "<div>\n",
       "<style scoped>\n",
       "    .dataframe tbody tr th:only-of-type {\n",
       "        vertical-align: middle;\n",
       "    }\n",
       "\n",
       "    .dataframe tbody tr th {\n",
       "        vertical-align: top;\n",
       "    }\n",
       "\n",
       "    .dataframe thead th {\n",
       "        text-align: right;\n",
       "    }\n",
       "</style>\n",
       "<table border=\"1\" class=\"dataframe\">\n",
       "  <thead>\n",
       "    <tr style=\"text-align: right;\">\n",
       "      <th></th>\n",
       "      <th>LNG_combustion</th>\n",
       "      <th>DME_combustion</th>\n",
       "      <th>VLSFO_combustion</th>\n",
       "      <th>NH3_combustion</th>\n",
       "      <th>MeOH_combustion</th>\n",
       "      <th>PO_combustion</th>\n",
       "    </tr>\n",
       "  </thead>\n",
       "  <tbody>\n",
       "    <tr>\n",
       "      <th>EF v3.1 acidification accumulated exceedance (AE)</th>\n",
       "      <td>0.000462</td>\n",
       "      <td>0.002237</td>\n",
       "      <td>0.003426</td>\n",
       "      <td>0.000663</td>\n",
       "      <td>0.000619</td>\n",
       "      <td>0.000935</td>\n",
       "    </tr>\n",
       "    <tr>\n",
       "      <th>EF v3.1 climate change global warming potential (GWP100)</th>\n",
       "      <td>0.133365</td>\n",
       "      <td>0.006839</td>\n",
       "      <td>0.167562</td>\n",
       "      <td>0.008902</td>\n",
       "      <td>0.005699</td>\n",
       "      <td>0.006602</td>\n",
       "    </tr>\n",
       "    <tr>\n",
       "      <th>EF v3.1 climate change: biogenic global warming potential (GWP100)</th>\n",
       "      <td>0.000012</td>\n",
       "      <td>0.000369</td>\n",
       "      <td>0.000012</td>\n",
       "      <td>0.000012</td>\n",
       "      <td>0.000103</td>\n",
       "      <td>0.000087</td>\n",
       "    </tr>\n",
       "    <tr>\n",
       "      <th>EF v3.1 climate change: fossil global warming potential (GWP100)</th>\n",
       "      <td>0.133344</td>\n",
       "      <td>0.006462</td>\n",
       "      <td>0.167542</td>\n",
       "      <td>0.008882</td>\n",
       "      <td>0.005588</td>\n",
       "      <td>0.006507</td>\n",
       "    </tr>\n",
       "    <tr>\n",
       "      <th>EF v3.1 climate change: land use and land use change global warming potential (GWP100)</th>\n",
       "      <td>0.000008</td>\n",
       "      <td>0.000008</td>\n",
       "      <td>0.000008</td>\n",
       "      <td>0.000008</td>\n",
       "      <td>0.000008</td>\n",
       "      <td>0.000008</td>\n",
       "    </tr>\n",
       "  </tbody>\n",
       "</table>\n",
       "</div>"
      ],
      "text/plain": [
       "                                                    LNG_combustion  \\\n",
       "EF v3.1 acidification accumulated exceedance (AE)         0.000462   \n",
       "EF v3.1 climate change global warming potential...        0.133365   \n",
       "EF v3.1 climate change: biogenic global warming...        0.000012   \n",
       "EF v3.1 climate change: fossil global warming p...        0.133344   \n",
       "EF v3.1 climate change: land use and land use c...        0.000008   \n",
       "\n",
       "                                                    DME_combustion  \\\n",
       "EF v3.1 acidification accumulated exceedance (AE)         0.002237   \n",
       "EF v3.1 climate change global warming potential...        0.006839   \n",
       "EF v3.1 climate change: biogenic global warming...        0.000369   \n",
       "EF v3.1 climate change: fossil global warming p...        0.006462   \n",
       "EF v3.1 climate change: land use and land use c...        0.000008   \n",
       "\n",
       "                                                    VLSFO_combustion  \\\n",
       "EF v3.1 acidification accumulated exceedance (AE)           0.003426   \n",
       "EF v3.1 climate change global warming potential...          0.167562   \n",
       "EF v3.1 climate change: biogenic global warming...          0.000012   \n",
       "EF v3.1 climate change: fossil global warming p...          0.167542   \n",
       "EF v3.1 climate change: land use and land use c...          0.000008   \n",
       "\n",
       "                                                    NH3_combustion  \\\n",
       "EF v3.1 acidification accumulated exceedance (AE)         0.000663   \n",
       "EF v3.1 climate change global warming potential...        0.008902   \n",
       "EF v3.1 climate change: biogenic global warming...        0.000012   \n",
       "EF v3.1 climate change: fossil global warming p...        0.008882   \n",
       "EF v3.1 climate change: land use and land use c...        0.000008   \n",
       "\n",
       "                                                    MeOH_combustion  \\\n",
       "EF v3.1 acidification accumulated exceedance (AE)          0.000619   \n",
       "EF v3.1 climate change global warming potential...         0.005699   \n",
       "EF v3.1 climate change: biogenic global warming...         0.000103   \n",
       "EF v3.1 climate change: fossil global warming p...         0.005588   \n",
       "EF v3.1 climate change: land use and land use c...         0.000008   \n",
       "\n",
       "                                                    PO_combustion  \n",
       "EF v3.1 acidification accumulated exceedance (AE)        0.000935  \n",
       "EF v3.1 climate change global warming potential...       0.006602  \n",
       "EF v3.1 climate change: biogenic global warming...       0.000087  \n",
       "EF v3.1 climate change: fossil global warming p...       0.006507  \n",
       "EF v3.1 climate change: land use and land use c...       0.000008  "
      ]
     },
     "execution_count": 66,
     "metadata": {},
     "output_type": "execute_result"
    }
   ],
   "source": [
    "my_output = pd.DataFrame(Results_TtW_EF31, index=methods_names)\n",
    "my_output.head()"
   ]
  },
  {
   "cell_type": "code",
   "execution_count": 67,
   "metadata": {},
   "outputs": [],
   "source": [
    "# Exporting to Excel\n",
    "my_output.to_excel('Results_Fuels_TtW_MJ_EF31.xlsx')"
   ]
  }
 ],
 "metadata": {
  "kernelspec": {
   "display_name": "Python 3.11.0",
   "language": "python",
   "name": "python3"
  },
  "language_info": {
   "codemirror_mode": {
    "name": "ipython",
    "version": 3
   },
   "file_extension": ".py",
   "mimetype": "text/x-python",
   "name": "python",
   "nbconvert_exporter": "python",
   "pygments_lexer": "ipython3",
   "version": "3.11.0"
  },
  "orig_nbformat": 4,
  "vscode": {
   "interpreter": {
    "hash": "82564b9d83d215aeea51e5be1898001271ba837eb23ba5d8f9bcea7057e5a82c"
   }
  }
 },
 "nbformat": 4,
 "nbformat_minor": 2
}

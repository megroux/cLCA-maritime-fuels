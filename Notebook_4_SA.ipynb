{
 "cells": [
  {
   "cell_type": "markdown",
   "metadata": {},
   "source": [
    "## Project: Maritime Fuels LCA\n",
    "### Notebook 4: Sensitivity Analyses\n",
    "#### This notebook is developed by Megan Roux and Massimo Pizzol, and includes adaptions of code provided by Massimo Pizzol, Nils Thonemann and Chris Mutel"
   ]
  },
  {
   "cell_type": "markdown",
   "metadata": {},
   "source": [
    "This notebook relates to work done for the publication 'Consequential LCA of alternative maritime fuels' which can be found at: doi"
   ]
  },
  {
   "cell_type": "markdown",
   "metadata": {},
   "source": [
    "Begin by importing all relevant packages (ensure you are in the right environment):"
   ]
  },
  {
   "cell_type": "code",
   "execution_count": 1,
   "metadata": {},
   "outputs": [],
   "source": [
    "# Note: must be environment bw2\n",
    "import brightway2 as bw\n",
    "import pandas as pd\n",
    "import numpy as np\n",
    "import matplotlib\n",
    "from lci_to_bw2 import * # this file has to be in the same folder as the notebook and raw data"
   ]
  },
  {
   "cell_type": "markdown",
   "metadata": {},
   "source": [
    "Set the project (same as in Notebook 1):"
   ]
  },
  {
   "cell_type": "code",
   "execution_count": 2,
   "metadata": {},
   "outputs": [],
   "source": [
    "bw.projects.set_current(\"fuels\")"
   ]
  },
  {
   "cell_type": "markdown",
   "metadata": {},
   "source": [
    "Now check which databases are in the project:\n",
    "(Should be biopshere3, ecoinvent 3.9 conseq, Fuels_WtT, Fuels_TtW and Fuels_WtW)"
   ]
  },
  {
   "cell_type": "code",
   "execution_count": 3,
   "metadata": {},
   "outputs": [
    {
     "data": {
      "text/plain": [
       "Databases dictionary with 26 objects, including:\n",
       "\tFuels_db_SA1\n",
       "\tFuels_db_SA1a\n",
       "\tFuels_db_SA1b\n",
       "\tFuels_db_SA1c\n",
       "\tFuels_db_SA1d\n",
       "\tFuels_db_SA1e\n",
       "\tFuels_db_SA1f\n",
       "\tFuels_db_SA2\n",
       "\tFuels_db_SA2a\n",
       "\tFuels_db_SA2b\n",
       "Use `list(this object)` to get the complete list."
      ]
     },
     "execution_count": 3,
     "metadata": {},
     "output_type": "execute_result"
    }
   ],
   "source": [
    "bw.databases"
   ]
  },
  {
   "cell_type": "code",
   "execution_count": 4,
   "metadata": {},
   "outputs": [],
   "source": [
    "ei39db = bw.Database(\"ecoinvent 3.9 conseq\")\n",
    "biodb = bw.Database(\"biosphere3\")"
   ]
  },
  {
   "cell_type": "markdown",
   "metadata": {},
   "source": [
    "Setting up the LCIA method:"
   ]
  },
  {
   "cell_type": "code",
   "execution_count": 5,
   "metadata": {},
   "outputs": [],
   "source": [
    "EF31 = [method for method in bw.methods if \"EF v3.1\" in str(method) \n",
    "        and \"no LT\" not in str(method)\n",
    "        and \"EN15804\" not in str(method)]\n",
    "# EF31"
   ]
  },
  {
   "cell_type": "markdown",
   "metadata": {},
   "source": [
    "## Sensitivity Analysis"
   ]
  },
  {
   "cell_type": "markdown",
   "metadata": {},
   "source": [
    "We will conduct three SAs: \n",
    "SA1: Changing electricity (grid and wind) to A) NL, B) DE, C) BE and D) ES, and E) Fully renewable\n",
    "SA2: Changing the counterfactual of wood and sraw residues to A) use for bio-electricity and B) use for heat and electricity\n",
    "SA3: Changing biochar use for PO to fertilizer\n",
    "SA4: Changing the emissions from NH3 combustion\n",
    "SA5: "
   ]
  },
  {
   "cell_type": "markdown",
   "metadata": {},
   "source": [
    "SA1:"
   ]
  },
  {
   "cell_type": "code",
   "execution_count": 10,
   "metadata": {},
   "outputs": [],
   "source": [
    "SA1a = pd.read_csv('Fuels_db_SA1a.csv', header = 0, sep = \";\")\n",
    "SA1b = pd.read_csv('Fuels_db_SA1b.csv', header = 0, sep = \";\")\n",
    "SA1c = pd.read_csv('Fuels_db_SA1c.csv', header = 0, sep = \";\")\n",
    "SA1d = pd.read_csv('Fuels_db_SA1d.csv', header = 0, sep = \";\")\n",
    "SA1e = pd.read_csv('Fuels_db_SA1e.csv', header = 0, sep = \";\")\n",
    "SA1f = pd.read_csv('Fuels_db_SA1f.csv', header = 0, sep = \";\")"
   ]
  },
  {
   "cell_type": "code",
   "execution_count": 11,
   "metadata": {},
   "outputs": [
    {
     "name": "stderr",
     "output_type": "stream",
     "text": [
      "C:\\Users\\merou\\AppData\\Local\\Temp\\ipykernel_1936\\719344963.py:1: FutureWarning: In a future version of pandas all arguments of DataFrame.drop except for the argument 'labels' will be keyword-only.\n",
      "  SA1a = SA1a.drop('Notes', 1)  # remove the columns not needed\n",
      "C:\\Users\\merou\\AppData\\Local\\Temp\\ipykernel_1936\\719344963.py:3: FutureWarning: In a future version of pandas all arguments of DataFrame.drop except for the argument 'labels' will be keyword-only.\n",
      "  SA1b = SA1b.drop('Notes', 1)  # remove the columns not needed\n",
      "C:\\Users\\merou\\AppData\\Local\\Temp\\ipykernel_1936\\719344963.py:5: FutureWarning: In a future version of pandas all arguments of DataFrame.drop except for the argument 'labels' will be keyword-only.\n",
      "  SA1c = SA1c.drop('Notes', 1)  # remove the columns not needed\n",
      "C:\\Users\\merou\\AppData\\Local\\Temp\\ipykernel_1936\\719344963.py:7: FutureWarning: In a future version of pandas all arguments of DataFrame.drop except for the argument 'labels' will be keyword-only.\n",
      "  SA1d = SA1d.drop('Notes', 1)  # remove the columns not needed\n",
      "C:\\Users\\merou\\AppData\\Local\\Temp\\ipykernel_1936\\719344963.py:9: FutureWarning: In a future version of pandas all arguments of DataFrame.drop except for the argument 'labels' will be keyword-only.\n",
      "  SA1e = SA1e.drop('Notes', 1)  # remove the columns not needed\n",
      "C:\\Users\\merou\\AppData\\Local\\Temp\\ipykernel_1936\\719344963.py:11: FutureWarning: In a future version of pandas all arguments of DataFrame.drop except for the argument 'labels' will be keyword-only.\n",
      "  SA1f = SA1f.drop('Notes', 1)  # remove the columns not needed\n"
     ]
    }
   ],
   "source": [
    "SA1a = SA1a.drop('Notes', 1)  # remove the columns not needed\n",
    "SA1a['Exchange uncertainty type'] = SA1['Exchange uncertainty type'].fillna(0).astype(int) # uncertainty as integers\n",
    "SA1b = SA1b.drop('Notes', 1)  # remove the columns not needed\n",
    "SA1b['Exchange uncertainty type'] = SA1['Exchange uncertainty type'].fillna(0).astype(int) # uncertainty as integers\n",
    "SA1c = SA1c.drop('Notes', 1)  # remove the columns not needed\n",
    "SA1c['Exchange uncertainty type'] = SA1['Exchange uncertainty type'].fillna(0).astype(int) # uncertainty as integers\n",
    "SA1d = SA1d.drop('Notes', 1)  # remove the columns not needed\n",
    "SA1d['Exchange uncertainty type'] = SA1['Exchange uncertainty type'].fillna(0).astype(int) # uncertainty as integers\n",
    "SA1e = SA1e.drop('Notes', 1)  # remove the columns not needed\n",
    "SA1e['Exchange uncertainty type'] = SA1['Exchange uncertainty type'].fillna(0).astype(int) # uncertainty as integers\n",
    "SA1f = SA1f.drop('Notes', 1)  # remove the columns not needed\n",
    "SA1f['Exchange uncertainty type'] = SA1['Exchange uncertainty type'].fillna(0).astype(int) # uncertainty as integers"
   ]
  },
  {
   "cell_type": "code",
   "execution_count": 12,
   "metadata": {},
   "outputs": [],
   "source": [
    "Fuels_SA1a = lci_to_bw2(SA1a) # a function from the lci_to_bw2 module\n",
    "Fuels_SA1b = lci_to_bw2(SA1b) # a function from the lci_to_bw2 module\n",
    "Fuels_SA1c = lci_to_bw2(SA1c) # a function from the lci_to_bw2 module\n",
    "Fuels_SA1d = lci_to_bw2(SA1d) # a function from the lci_to_bw2 module\n",
    "Fuels_SA1e = lci_to_bw2(SA1e) # a function from the lci_to_bw2 module\n",
    "Fuels_SA1f = lci_to_bw2(SA1f) # a function from the lci_to_bw2 module"
   ]
  },
  {
   "cell_type": "code",
   "execution_count": 13,
   "metadata": {},
   "outputs": [
    {
     "name": "stderr",
     "output_type": "stream",
     "text": [
      "Writing activities to SQLite3 database:\n",
      "0% [###############] 100% | ETA: 00:00:00\n",
      "Total time elapsed: 00:00:00\n"
     ]
    },
    {
     "name": "stdout",
     "output_type": "stream",
     "text": [
      "Title: Writing activities to SQLite3 database:\n",
      "  Started: 07/31/2024 14:41:30\n",
      "  Finished: 07/31/2024 14:41:30\n",
      "  Total time elapsed: 00:00:00\n",
      "  CPU %: 50.40\n",
      "  Memory %: 2.46\n"
     ]
    },
    {
     "name": "stderr",
     "output_type": "stream",
     "text": [
      "Writing activities to SQLite3 database:\n",
      "0% [###############] 100% | ETA: 00:00:00\n",
      "Total time elapsed: 00:00:00\n"
     ]
    },
    {
     "name": "stdout",
     "output_type": "stream",
     "text": [
      "Title: Writing activities to SQLite3 database:\n",
      "  Started: 07/31/2024 14:41:31\n",
      "  Finished: 07/31/2024 14:41:31\n",
      "  Total time elapsed: 00:00:00\n",
      "  CPU %: 50.40\n",
      "  Memory %: 2.46\n"
     ]
    },
    {
     "name": "stderr",
     "output_type": "stream",
     "text": [
      "Writing activities to SQLite3 database:\n",
      "0% [###############] 100% | ETA: 00:00:00\n",
      "Total time elapsed: 00:00:00\n",
      "Writing activities to SQLite3 database:\n"
     ]
    },
    {
     "name": "stdout",
     "output_type": "stream",
     "text": [
      "Title: Writing activities to SQLite3 database:\n",
      "  Started: 07/31/2024 14:41:31\n",
      "  Finished: 07/31/2024 14:41:31\n",
      "  Total time elapsed: 00:00:00\n",
      "  CPU %: 100.80\n",
      "  Memory %: 2.46\n"
     ]
    },
    {
     "name": "stderr",
     "output_type": "stream",
     "text": [
      "0% [###############] 100% | ETA: 00:00:00\n",
      "Total time elapsed: 00:00:00\n"
     ]
    },
    {
     "name": "stdout",
     "output_type": "stream",
     "text": [
      "Title: Writing activities to SQLite3 database:\n",
      "  Started: 07/31/2024 14:41:31\n",
      "  Finished: 07/31/2024 14:41:31\n",
      "  Total time elapsed: 00:00:00\n",
      "  CPU %: 50.40\n",
      "  Memory %: 2.47\n"
     ]
    },
    {
     "name": "stderr",
     "output_type": "stream",
     "text": [
      "Writing activities to SQLite3 database:\n",
      "0% [###############] 100% | ETA: 00:00:00\n",
      "Total time elapsed: 00:00:00\n"
     ]
    },
    {
     "name": "stdout",
     "output_type": "stream",
     "text": [
      "Title: Writing activities to SQLite3 database:\n",
      "  Started: 07/31/2024 14:41:31\n",
      "  Finished: 07/31/2024 14:41:31\n",
      "  Total time elapsed: 00:00:00\n",
      "  CPU %: 100.80\n",
      "  Memory %: 2.47\n"
     ]
    },
    {
     "name": "stderr",
     "output_type": "stream",
     "text": [
      "Writing activities to SQLite3 database:\n",
      "0% [###############] 100% | ETA: 00:00:00\n",
      "Total time elapsed: 00:00:00\n"
     ]
    },
    {
     "name": "stdout",
     "output_type": "stream",
     "text": [
      "Title: Writing activities to SQLite3 database:\n",
      "  Started: 07/31/2024 14:41:32\n",
      "  Finished: 07/31/2024 14:41:32\n",
      "  Total time elapsed: 00:00:00\n",
      "  CPU %: 66.50\n",
      "  Memory %: 2.47\n"
     ]
    }
   ],
   "source": [
    "if 'Fuels_db_SA1a' in bw.databases: del bw.databases['Fuels_db_SA1a']\n",
    "Fuels_db_SA1a = bw.Database('Fuels_db_SA1a') # it works because the database name in the excel file is the same\n",
    "Fuels_db_SA1a.write(Fuels_SA1a)\n",
    "\n",
    "if 'Fuels_db_SA1b' in bw.databases: del bw.databases['Fuels_db_SA1b']\n",
    "Fuels_db_SA1b = bw.Database('Fuels_db_SA1b') # it works because the database name in the excel file is the same\n",
    "Fuels_db_SA1b.write(Fuels_SA1b)\n",
    "\n",
    "if 'Fuels_db_SA1c' in bw.databases: del bw.databases['Fuels_db_SA1c']\n",
    "Fuels_db_SA1c = bw.Database('Fuels_db_SA1c') # it works because the database name in the excel file is the same\n",
    "Fuels_db_SA1c.write(Fuels_SA1c)\n",
    "\n",
    "if 'Fuels_db_SA1d' in bw.databases: del bw.databases['Fuels_db_SA1d']\n",
    "Fuels_db_SA1d = bw.Database('Fuels_db_SA1d') # it works because the database name in the excel file is the same\n",
    "Fuels_db_SA1d.write(Fuels_SA1d)\n",
    "\n",
    "if 'Fuels_db_SA1e' in bw.databases: del bw.databases['Fuels_db_SA1e']\n",
    "Fuels_db_SA1e = bw.Database('Fuels_db_SA1e') # it works because the database name in the excel file is the same\n",
    "Fuels_db_SA1e.write(Fuels_SA1e)\n",
    "\n",
    "if 'Fuels_db_SA1f' in bw.databases: del bw.databases['Fuels_db_SA1f']\n",
    "Fuels_db_SA1f = bw.Database('Fuels_db_SA1f') # it works because the database name in the excel file is the same\n",
    "Fuels_db_SA1f.write(Fuels_SA1f)"
   ]
  },
  {
   "cell_type": "code",
   "execution_count": 21,
   "metadata": {},
   "outputs": [
    {
     "data": {
      "text/plain": [
       "[('Fuels_db_SA1f', 'DME'),\n",
       " ('Fuels_db_SA1f', 'PO_slow'),\n",
       " ('Fuels_db_SA1f', 'eH2'),\n",
       " ('Fuels_db_SA1f', 'Wood'),\n",
       " ('Fuels_db_SA1f', 'NH3_CCS'),\n",
       " ('Fuels_db_SA1f', 'eMeOH_DAC'),\n",
       " ('Fuels_db_SA1f', 'PO_fast'),\n",
       " ('Fuels_db_SA1f', 'DAC'),\n",
       " ('Fuels_db_SA1f', 'eNH3'),\n",
       " ('Fuels_db_SA1f', 'eMeOH_bio'),\n",
       " ('Fuels_db_SA1f', 'VLSFO'),\n",
       " ('Fuels_db_SA1f', 'Straw'),\n",
       " ('Fuels_db_SA1f', 'bioMeOH'),\n",
       " ('Fuels_db_SA1f', 'LNG'),\n",
       " ('Fuels_db_SA1f', 'eMeOH_DOC')]"
      ]
     },
     "execution_count": 21,
     "metadata": {},
     "output_type": "execute_result"
    }
   ],
   "source": [
    "Fuels_SA1a = [(act['database'], act['code']) for act in bw.Database('Fuels_db_SA1a')]\n",
    "Fuels_SA1b = [(act['database'], act['code']) for act in bw.Database('Fuels_db_SA1b')]\n",
    "Fuels_SA1c = [(act['database'], act['code']) for act in bw.Database('Fuels_db_SA1c')]\n",
    "Fuels_SA1d = [(act['database'], act['code']) for act in bw.Database('Fuels_db_SA1d')]\n",
    "Fuels_SA1e = [(act['database'], act['code']) for act in bw.Database('Fuels_db_SA1e')]\n",
    "Fuels_SA1f = [(act['database'], act['code']) for act in bw.Database('Fuels_db_SA1f')]\n",
    "Fuels_SA1f"
   ]
  },
  {
   "cell_type": "markdown",
   "metadata": {},
   "source": [
    "SA4:"
   ]
  },
  {
   "cell_type": "code",
   "execution_count": 6,
   "metadata": {},
   "outputs": [],
   "source": [
    "SA4 = pd.read_csv('Fuels_db_SA4.csv', header = 0, sep = \";\")"
   ]
  },
  {
   "cell_type": "code",
   "execution_count": 7,
   "metadata": {},
   "outputs": [],
   "source": [
    "Fuels_SA4 = lci_to_bw2(SA4) # a function from the lci_to_bw2 module"
   ]
  },
  {
   "cell_type": "code",
   "execution_count": 8,
   "metadata": {},
   "outputs": [
    {
     "name": "stderr",
     "output_type": "stream",
     "text": [
      "Writing activities to SQLite3 database:\n",
      "0% [######] 100% | ETA: 00:00:00\n",
      "Total time elapsed: 00:00:00\n"
     ]
    },
    {
     "name": "stdout",
     "output_type": "stream",
     "text": [
      "Title: Writing activities to SQLite3 database:\n",
      "  Started: 10/22/2024 15:38:09\n",
      "  Finished: 10/22/2024 15:38:09\n",
      "  Total time elapsed: 00:00:00\n",
      "  CPU %: 97.70\n",
      "  Memory %: 2.99\n"
     ]
    }
   ],
   "source": [
    "if 'Fuels_db_SA4' in bw.databases: del bw.databases['Fuels_db_SA4']\n",
    "Fuels_db_SA4 = bw.Database('Fuels_db_SA4') # it works because the database name in the excel file is the same\n",
    "Fuels_db_SA4.write(Fuels_SA4)"
   ]
  },
  {
   "cell_type": "code",
   "execution_count": 10,
   "metadata": {},
   "outputs": [
    {
     "data": {
      "text/plain": [
       "[('Fuels_db_SA4', 'SA4a'),\n",
       " ('Fuels_db_SA4', 'SA4f'),\n",
       " ('Fuels_db_SA4', 'SA4d'),\n",
       " ('Fuels_db_SA4', 'SA4e'),\n",
       " ('Fuels_db_SA4', 'SA4c'),\n",
       " ('Fuels_db_SA4', 'SA4b')]"
      ]
     },
     "execution_count": 10,
     "metadata": {},
     "output_type": "execute_result"
    }
   ],
   "source": [
    "Fuels_SA4 = [(act['database'], act['code']) for act in bw.Database('Fuels_db_SA4')]\n",
    "Fuels_SA4"
   ]
  },
  {
   "cell_type": "code",
   "execution_count": 12,
   "metadata": {},
   "outputs": [
    {
     "name": "stdout",
     "output_type": "stream",
     "text": [
      "('EF v3.1', 'climate change', 'global warming potential (GWP100)')\n",
      "('Fuels_db_SA4', 'SA4b')\n",
      "0.009616266520216469\n"
     ]
    }
   ],
   "source": [
    "mymethod = EF31[1]\n",
    "print(mymethod)\n",
    "Fuels_SA4[-1]\n",
    "myact = Fuels_SA4[-1]\n",
    "print(myact)\n",
    "functional_unit = {myact: 1} \n",
    "lca = bw.LCA(functional_unit, mymethod)\n",
    "lca.lci()\n",
    "lca.lcia()\n",
    "print(lca.score)"
   ]
  },
  {
   "cell_type": "code",
   "execution_count": 13,
   "metadata": {},
   "outputs": [],
   "source": [
    "def dolcacalc(myact, mydemand, mymethod):\n",
    "    my_fu = {myact: mydemand} \n",
    "    lca = bw.LCA(my_fu, mymethod)\n",
    "    lca.lci()\n",
    "    lca.lcia()\n",
    "    return lca.score\n",
    "\n",
    "# For WtT\n",
    "def getLCAresults(list_acts, mymethod):\n",
    "    \n",
    "    all_activities = []\n",
    "    results = []\n",
    "    for a in list_acts:\n",
    "        act = bw.Database(a[0]).get(a[1])\n",
    "        all_activities.append(act['name'])\n",
    "        results.append(dolcacalc(act,1,mymethod)) # 1 stays for one unit of each process\n",
    "        #print(act['name'])\n",
    "     \n",
    "    results_dict = dict(zip(all_activities, results))\n",
    "    \n",
    "    return results_dict"
   ]
  },
  {
   "cell_type": "code",
   "execution_count": 14,
   "metadata": {},
   "outputs": [],
   "source": [
    "Results_SA4 = []\n",
    "for m in EF31:\n",
    "    results_SA4 = getLCAresults(Fuels_SA4,m) # total impact per tech\n",
    "    Results_SA4.append(results_SA4)"
   ]
  },
  {
   "cell_type": "code",
   "execution_count": 152,
   "metadata": {},
   "outputs": [],
   "source": [
    "Results_SA1a = []\n",
    "for m in EF31:\n",
    "    results_SA1a = getLCAresults(Fuels_SA1a,m) # total impact per tech\n",
    "    Results_SA1a.append(results_SA1a)"
   ]
  },
  {
   "cell_type": "code",
   "execution_count": 16,
   "metadata": {},
   "outputs": [],
   "source": [
    "methods_names = []\n",
    "for m in EF31:\n",
    "    m_name = ' '.join(m)\n",
    "    methods_names.append(m_name)"
   ]
  },
  {
   "cell_type": "code",
   "execution_count": 17,
   "metadata": {},
   "outputs": [
    {
     "data": {
      "text/html": [
       "<div>\n",
       "<style scoped>\n",
       "    .dataframe tbody tr th:only-of-type {\n",
       "        vertical-align: middle;\n",
       "    }\n",
       "\n",
       "    .dataframe tbody tr th {\n",
       "        vertical-align: top;\n",
       "    }\n",
       "\n",
       "    .dataframe thead th {\n",
       "        text-align: right;\n",
       "    }\n",
       "</style>\n",
       "<table border=\"1\" class=\"dataframe\">\n",
       "  <thead>\n",
       "    <tr style=\"text-align: right;\">\n",
       "      <th></th>\n",
       "      <th>SA4a</th>\n",
       "      <th>SA4f</th>\n",
       "      <th>SA4d</th>\n",
       "      <th>SA4e</th>\n",
       "      <th>SA4c</th>\n",
       "      <th>SA4b</th>\n",
       "    </tr>\n",
       "  </thead>\n",
       "  <tbody>\n",
       "    <tr>\n",
       "      <th>EF v3.1 acidification accumulated exceedance (AE)</th>\n",
       "      <td>0.000723</td>\n",
       "      <td>0.000709</td>\n",
       "      <td>0.000668</td>\n",
       "      <td>0.000738</td>\n",
       "      <td>0.000779</td>\n",
       "      <td>0.000723</td>\n",
       "    </tr>\n",
       "    <tr>\n",
       "      <th>EF v3.1 climate change global warming potential (GWP100)</th>\n",
       "      <td>0.010603</td>\n",
       "      <td>0.010109</td>\n",
       "      <td>0.010109</td>\n",
       "      <td>0.010109</td>\n",
       "      <td>0.010109</td>\n",
       "      <td>0.009616</td>\n",
       "    </tr>\n",
       "    <tr>\n",
       "      <th>EF v3.1 climate change: biogenic global warming potential (GWP100)</th>\n",
       "      <td>0.000012</td>\n",
       "      <td>0.000012</td>\n",
       "      <td>0.000012</td>\n",
       "      <td>0.000012</td>\n",
       "      <td>0.000012</td>\n",
       "      <td>0.000012</td>\n",
       "    </tr>\n",
       "    <tr>\n",
       "      <th>EF v3.1 climate change: fossil global warming potential (GWP100)</th>\n",
       "      <td>0.010582</td>\n",
       "      <td>0.010089</td>\n",
       "      <td>0.010089</td>\n",
       "      <td>0.010089</td>\n",
       "      <td>0.010089</td>\n",
       "      <td>0.009596</td>\n",
       "    </tr>\n",
       "    <tr>\n",
       "      <th>EF v3.1 climate change: land use and land use change global warming potential (GWP100)</th>\n",
       "      <td>0.000008</td>\n",
       "      <td>0.000008</td>\n",
       "      <td>0.000008</td>\n",
       "      <td>0.000008</td>\n",
       "      <td>0.000008</td>\n",
       "      <td>0.000008</td>\n",
       "    </tr>\n",
       "  </tbody>\n",
       "</table>\n",
       "</div>"
      ],
      "text/plain": [
       "                                                        SA4a      SA4f  \\\n",
       "EF v3.1 acidification accumulated exceedance (AE)   0.000723  0.000709   \n",
       "EF v3.1 climate change global warming potential...  0.010603  0.010109   \n",
       "EF v3.1 climate change: biogenic global warming...  0.000012  0.000012   \n",
       "EF v3.1 climate change: fossil global warming p...  0.010582  0.010089   \n",
       "EF v3.1 climate change: land use and land use c...  0.000008  0.000008   \n",
       "\n",
       "                                                        SA4d      SA4e  \\\n",
       "EF v3.1 acidification accumulated exceedance (AE)   0.000668  0.000738   \n",
       "EF v3.1 climate change global warming potential...  0.010109  0.010109   \n",
       "EF v3.1 climate change: biogenic global warming...  0.000012  0.000012   \n",
       "EF v3.1 climate change: fossil global warming p...  0.010089  0.010089   \n",
       "EF v3.1 climate change: land use and land use c...  0.000008  0.000008   \n",
       "\n",
       "                                                        SA4c      SA4b  \n",
       "EF v3.1 acidification accumulated exceedance (AE)   0.000779  0.000723  \n",
       "EF v3.1 climate change global warming potential...  0.010109  0.009616  \n",
       "EF v3.1 climate change: biogenic global warming...  0.000012  0.000012  \n",
       "EF v3.1 climate change: fossil global warming p...  0.010089  0.009596  \n",
       "EF v3.1 climate change: land use and land use c...  0.000008  0.000008  "
      ]
     },
     "execution_count": 17,
     "metadata": {},
     "output_type": "execute_result"
    }
   ],
   "source": [
    "my_output = pd.DataFrame(Results_SA4, index=methods_names)\n",
    "my_output.head()"
   ]
  },
  {
   "cell_type": "code",
   "execution_count": 155,
   "metadata": {},
   "outputs": [],
   "source": [
    "# Exporting to Excel\n",
    "my_output.to_excel('Results_SA4.xlsx')"
   ]
  },
  {
   "cell_type": "code",
   "execution_count": 33,
   "metadata": {},
   "outputs": [
    {
     "data": {
      "text/html": [
       "<div>\n",
       "<style scoped>\n",
       "    .dataframe tbody tr th:only-of-type {\n",
       "        vertical-align: middle;\n",
       "    }\n",
       "\n",
       "    .dataframe tbody tr th {\n",
       "        vertical-align: top;\n",
       "    }\n",
       "\n",
       "    .dataframe thead th {\n",
       "        text-align: right;\n",
       "    }\n",
       "</style>\n",
       "<table border=\"1\" class=\"dataframe\">\n",
       "  <thead>\n",
       "    <tr style=\"text-align: right;\">\n",
       "      <th></th>\n",
       "      <th>DME</th>\n",
       "      <th>NH3_CCS</th>\n",
       "      <th>bioMeOH</th>\n",
       "      <th>DAC</th>\n",
       "      <th>eH2</th>\n",
       "      <th>eMeOH_DOC</th>\n",
       "      <th>PO_slow</th>\n",
       "      <th>PO_fast</th>\n",
       "      <th>eMeOH_DAC</th>\n",
       "      <th>VLSFO</th>\n",
       "      <th>LNG</th>\n",
       "      <th>eMeOH_bio</th>\n",
       "      <th>eNH3</th>\n",
       "    </tr>\n",
       "  </thead>\n",
       "  <tbody>\n",
       "    <tr>\n",
       "      <th>EF v3.1 acidification accumulated exceedance (AE)</th>\n",
       "      <td>0.000063</td>\n",
       "      <td>0.000293</td>\n",
       "      <td>0.000039</td>\n",
       "      <td>0.000006</td>\n",
       "      <td>0.008782</td>\n",
       "      <td>-4868.553951</td>\n",
       "      <td>0.000654</td>\n",
       "      <td>0.000897</td>\n",
       "      <td>0.000450</td>\n",
       "      <td>0.000131</td>\n",
       "      <td>0.000030</td>\n",
       "      <td>0.000112</td>\n",
       "      <td>0.000215</td>\n",
       "    </tr>\n",
       "    <tr>\n",
       "      <th>EF v3.1 climate change global warming potential (GWP100)</th>\n",
       "      <td>0.022528</td>\n",
       "      <td>0.152336</td>\n",
       "      <td>0.012078</td>\n",
       "      <td>0.003852</td>\n",
       "      <td>1.825471</td>\n",
       "      <td>16878.299988</td>\n",
       "      <td>0.014297</td>\n",
       "      <td>0.016549</td>\n",
       "      <td>0.127048</td>\n",
       "      <td>0.039637</td>\n",
       "      <td>0.021839</td>\n",
       "      <td>0.024737</td>\n",
       "      <td>0.042271</td>\n",
       "    </tr>\n",
       "    <tr>\n",
       "      <th>EF v3.1 climate change: biogenic global warming potential (GWP100)</th>\n",
       "      <td>0.000007</td>\n",
       "      <td>-0.007563</td>\n",
       "      <td>0.000005</td>\n",
       "      <td>-0.000004</td>\n",
       "      <td>-0.000018</td>\n",
       "      <td>20.747884</td>\n",
       "      <td>0.000090</td>\n",
       "      <td>0.000013</td>\n",
       "      <td>0.000010</td>\n",
       "      <td>0.000008</td>\n",
       "      <td>0.000001</td>\n",
       "      <td>0.000003</td>\n",
       "      <td>0.000010</td>\n",
       "    </tr>\n",
       "    <tr>\n",
       "      <th>EF v3.1 climate change: fossil global warming potential (GWP100)</th>\n",
       "      <td>0.022488</td>\n",
       "      <td>0.159865</td>\n",
       "      <td>0.009935</td>\n",
       "      <td>0.003810</td>\n",
       "      <td>1.819017</td>\n",
       "      <td>16815.954309</td>\n",
       "      <td>-0.083726</td>\n",
       "      <td>0.002336</td>\n",
       "      <td>0.126880</td>\n",
       "      <td>0.039619</td>\n",
       "      <td>0.021835</td>\n",
       "      <td>0.023564</td>\n",
       "      <td>0.042115</td>\n",
       "    </tr>\n",
       "    <tr>\n",
       "      <th>EF v3.1 climate change: land use and land use change global warming potential (GWP100)</th>\n",
       "      <td>0.000033</td>\n",
       "      <td>0.000033</td>\n",
       "      <td>0.002138</td>\n",
       "      <td>0.000046</td>\n",
       "      <td>0.006472</td>\n",
       "      <td>41.597794</td>\n",
       "      <td>0.097933</td>\n",
       "      <td>0.014199</td>\n",
       "      <td>0.000158</td>\n",
       "      <td>0.000009</td>\n",
       "      <td>0.000003</td>\n",
       "      <td>0.001169</td>\n",
       "      <td>0.000147</td>\n",
       "    </tr>\n",
       "  </tbody>\n",
       "</table>\n",
       "</div>"
      ],
      "text/plain": [
       "                                                         DME   NH3_CCS  \\\n",
       "EF v3.1 acidification accumulated exceedance (AE)   0.000063  0.000293   \n",
       "EF v3.1 climate change global warming potential...  0.022528  0.152336   \n",
       "EF v3.1 climate change: biogenic global warming...  0.000007 -0.007563   \n",
       "EF v3.1 climate change: fossil global warming p...  0.022488  0.159865   \n",
       "EF v3.1 climate change: land use and land use c...  0.000033  0.000033   \n",
       "\n",
       "                                                     bioMeOH       DAC  \\\n",
       "EF v3.1 acidification accumulated exceedance (AE)   0.000039  0.000006   \n",
       "EF v3.1 climate change global warming potential...  0.012078  0.003852   \n",
       "EF v3.1 climate change: biogenic global warming...  0.000005 -0.000004   \n",
       "EF v3.1 climate change: fossil global warming p...  0.009935  0.003810   \n",
       "EF v3.1 climate change: land use and land use c...  0.002138  0.000046   \n",
       "\n",
       "                                                         eH2     eMeOH_DOC  \\\n",
       "EF v3.1 acidification accumulated exceedance (AE)   0.008782  -4868.553951   \n",
       "EF v3.1 climate change global warming potential...  1.825471  16878.299988   \n",
       "EF v3.1 climate change: biogenic global warming... -0.000018     20.747884   \n",
       "EF v3.1 climate change: fossil global warming p...  1.819017  16815.954309   \n",
       "EF v3.1 climate change: land use and land use c...  0.006472     41.597794   \n",
       "\n",
       "                                                     PO_slow   PO_fast  \\\n",
       "EF v3.1 acidification accumulated exceedance (AE)   0.000654  0.000897   \n",
       "EF v3.1 climate change global warming potential...  0.014297  0.016549   \n",
       "EF v3.1 climate change: biogenic global warming...  0.000090  0.000013   \n",
       "EF v3.1 climate change: fossil global warming p... -0.083726  0.002336   \n",
       "EF v3.1 climate change: land use and land use c...  0.097933  0.014199   \n",
       "\n",
       "                                                    eMeOH_DAC     VLSFO  \\\n",
       "EF v3.1 acidification accumulated exceedance (AE)    0.000450  0.000131   \n",
       "EF v3.1 climate change global warming potential...   0.127048  0.039637   \n",
       "EF v3.1 climate change: biogenic global warming...   0.000010  0.000008   \n",
       "EF v3.1 climate change: fossil global warming p...   0.126880  0.039619   \n",
       "EF v3.1 climate change: land use and land use c...   0.000158  0.000009   \n",
       "\n",
       "                                                         LNG  eMeOH_bio  \\\n",
       "EF v3.1 acidification accumulated exceedance (AE)   0.000030   0.000112   \n",
       "EF v3.1 climate change global warming potential...  0.021839   0.024737   \n",
       "EF v3.1 climate change: biogenic global warming...  0.000001   0.000003   \n",
       "EF v3.1 climate change: fossil global warming p...  0.021835   0.023564   \n",
       "EF v3.1 climate change: land use and land use c...  0.000003   0.001169   \n",
       "\n",
       "                                                        eNH3  \n",
       "EF v3.1 acidification accumulated exceedance (AE)   0.000215  \n",
       "EF v3.1 climate change global warming potential...  0.042271  \n",
       "EF v3.1 climate change: biogenic global warming...  0.000010  \n",
       "EF v3.1 climate change: fossil global warming p...  0.042115  \n",
       "EF v3.1 climate change: land use and land use c...  0.000147  "
      ]
     },
     "execution_count": 33,
     "metadata": {},
     "output_type": "execute_result"
    }
   ],
   "source": [
    "my_output = pd.DataFrame(Results_SA1b, index=methods_names)\n",
    "my_output.head()"
   ]
  },
  {
   "cell_type": "code",
   "execution_count": 34,
   "metadata": {},
   "outputs": [],
   "source": [
    "# Exporting to Excel\n",
    "my_output.to_excel('Results_SA1b.xlsx')"
   ]
  },
  {
   "cell_type": "code",
   "execution_count": 35,
   "metadata": {},
   "outputs": [
    {
     "data": {
      "text/html": [
       "<div>\n",
       "<style scoped>\n",
       "    .dataframe tbody tr th:only-of-type {\n",
       "        vertical-align: middle;\n",
       "    }\n",
       "\n",
       "    .dataframe tbody tr th {\n",
       "        vertical-align: top;\n",
       "    }\n",
       "\n",
       "    .dataframe thead th {\n",
       "        text-align: right;\n",
       "    }\n",
       "</style>\n",
       "<table border=\"1\" class=\"dataframe\">\n",
       "  <thead>\n",
       "    <tr style=\"text-align: right;\">\n",
       "      <th></th>\n",
       "      <th>LNG</th>\n",
       "      <th>eMeOH_DOC</th>\n",
       "      <th>eNH3</th>\n",
       "      <th>DAC</th>\n",
       "      <th>eH2</th>\n",
       "      <th>NH3_CCS</th>\n",
       "      <th>bioMeOH</th>\n",
       "      <th>DME</th>\n",
       "      <th>PO_fast</th>\n",
       "      <th>VLSFO</th>\n",
       "      <th>eMeOH_DAC</th>\n",
       "      <th>eMeOH_bio</th>\n",
       "      <th>PO_slow</th>\n",
       "    </tr>\n",
       "  </thead>\n",
       "  <tbody>\n",
       "    <tr>\n",
       "      <th>EF v3.1 acidification accumulated exceedance (AE)</th>\n",
       "      <td>0.000030</td>\n",
       "      <td>-4868.554011</td>\n",
       "      <td>0.000162</td>\n",
       "      <td>0.000006</td>\n",
       "      <td>0.006405</td>\n",
       "      <td>0.000316</td>\n",
       "      <td>0.000041</td>\n",
       "      <td>0.000069</td>\n",
       "      <td>0.000902</td>\n",
       "      <td>0.000132</td>\n",
       "      <td>0.000397</td>\n",
       "      <td>8.924648e-05</td>\n",
       "      <td>0.000666</td>\n",
       "    </tr>\n",
       "    <tr>\n",
       "      <th>EF v3.1 climate change global warming potential (GWP100)</th>\n",
       "      <td>0.021839</td>\n",
       "      <td>16878.291186</td>\n",
       "      <td>0.034616</td>\n",
       "      <td>0.003852</td>\n",
       "      <td>1.480203</td>\n",
       "      <td>0.167082</td>\n",
       "      <td>0.013599</td>\n",
       "      <td>0.025955</td>\n",
       "      <td>0.019568</td>\n",
       "      <td>0.039768</td>\n",
       "      <td>0.119402</td>\n",
       "      <td>2.203010e-02</td>\n",
       "      <td>0.022041</td>\n",
       "    </tr>\n",
       "    <tr>\n",
       "      <th>EF v3.1 climate change: biogenic global warming potential (GWP100)</th>\n",
       "      <td>0.000001</td>\n",
       "      <td>20.747878</td>\n",
       "      <td>0.000003</td>\n",
       "      <td>-0.000004</td>\n",
       "      <td>-0.000292</td>\n",
       "      <td>-0.007565</td>\n",
       "      <td>0.000004</td>\n",
       "      <td>0.000006</td>\n",
       "      <td>0.000013</td>\n",
       "      <td>0.000008</td>\n",
       "      <td>0.000004</td>\n",
       "      <td>5.559645e-07</td>\n",
       "      <td>0.000089</td>\n",
       "    </tr>\n",
       "    <tr>\n",
       "      <th>EF v3.1 climate change: fossil global warming potential (GWP100)</th>\n",
       "      <td>0.021835</td>\n",
       "      <td>16815.945546</td>\n",
       "      <td>0.034493</td>\n",
       "      <td>0.003810</td>\n",
       "      <td>1.475254</td>\n",
       "      <td>0.174631</td>\n",
       "      <td>0.011458</td>\n",
       "      <td>0.025919</td>\n",
       "      <td>0.005360</td>\n",
       "      <td>0.039750</td>\n",
       "      <td>0.119268</td>\n",
       "      <td>2.087389e-02</td>\n",
       "      <td>-0.075972</td>\n",
       "    </tr>\n",
       "    <tr>\n",
       "      <th>EF v3.1 climate change: land use and land use change global warming potential (GWP100)</th>\n",
       "      <td>0.000003</td>\n",
       "      <td>41.597763</td>\n",
       "      <td>0.000119</td>\n",
       "      <td>0.000046</td>\n",
       "      <td>0.005240</td>\n",
       "      <td>0.000016</td>\n",
       "      <td>0.002136</td>\n",
       "      <td>0.000029</td>\n",
       "      <td>0.014196</td>\n",
       "      <td>0.000009</td>\n",
       "      <td>0.000131</td>\n",
       "      <td>1.155648e-03</td>\n",
       "      <td>0.097924</td>\n",
       "    </tr>\n",
       "  </tbody>\n",
       "</table>\n",
       "</div>"
      ],
      "text/plain": [
       "                                                         LNG     eMeOH_DOC  \\\n",
       "EF v3.1 acidification accumulated exceedance (AE)   0.000030  -4868.554011   \n",
       "EF v3.1 climate change global warming potential...  0.021839  16878.291186   \n",
       "EF v3.1 climate change: biogenic global warming...  0.000001     20.747878   \n",
       "EF v3.1 climate change: fossil global warming p...  0.021835  16815.945546   \n",
       "EF v3.1 climate change: land use and land use c...  0.000003     41.597763   \n",
       "\n",
       "                                                        eNH3       DAC  \\\n",
       "EF v3.1 acidification accumulated exceedance (AE)   0.000162  0.000006   \n",
       "EF v3.1 climate change global warming potential...  0.034616  0.003852   \n",
       "EF v3.1 climate change: biogenic global warming...  0.000003 -0.000004   \n",
       "EF v3.1 climate change: fossil global warming p...  0.034493  0.003810   \n",
       "EF v3.1 climate change: land use and land use c...  0.000119  0.000046   \n",
       "\n",
       "                                                         eH2   NH3_CCS  \\\n",
       "EF v3.1 acidification accumulated exceedance (AE)   0.006405  0.000316   \n",
       "EF v3.1 climate change global warming potential...  1.480203  0.167082   \n",
       "EF v3.1 climate change: biogenic global warming... -0.000292 -0.007565   \n",
       "EF v3.1 climate change: fossil global warming p...  1.475254  0.174631   \n",
       "EF v3.1 climate change: land use and land use c...  0.005240  0.000016   \n",
       "\n",
       "                                                     bioMeOH       DME  \\\n",
       "EF v3.1 acidification accumulated exceedance (AE)   0.000041  0.000069   \n",
       "EF v3.1 climate change global warming potential...  0.013599  0.025955   \n",
       "EF v3.1 climate change: biogenic global warming...  0.000004  0.000006   \n",
       "EF v3.1 climate change: fossil global warming p...  0.011458  0.025919   \n",
       "EF v3.1 climate change: land use and land use c...  0.002136  0.000029   \n",
       "\n",
       "                                                     PO_fast     VLSFO  \\\n",
       "EF v3.1 acidification accumulated exceedance (AE)   0.000902  0.000132   \n",
       "EF v3.1 climate change global warming potential...  0.019568  0.039768   \n",
       "EF v3.1 climate change: biogenic global warming...  0.000013  0.000008   \n",
       "EF v3.1 climate change: fossil global warming p...  0.005360  0.039750   \n",
       "EF v3.1 climate change: land use and land use c...  0.014196  0.000009   \n",
       "\n",
       "                                                    eMeOH_DAC     eMeOH_bio  \\\n",
       "EF v3.1 acidification accumulated exceedance (AE)    0.000397  8.924648e-05   \n",
       "EF v3.1 climate change global warming potential...   0.119402  2.203010e-02   \n",
       "EF v3.1 climate change: biogenic global warming...   0.000004  5.559645e-07   \n",
       "EF v3.1 climate change: fossil global warming p...   0.119268  2.087389e-02   \n",
       "EF v3.1 climate change: land use and land use c...   0.000131  1.155648e-03   \n",
       "\n",
       "                                                     PO_slow  \n",
       "EF v3.1 acidification accumulated exceedance (AE)   0.000666  \n",
       "EF v3.1 climate change global warming potential...  0.022041  \n",
       "EF v3.1 climate change: biogenic global warming...  0.000089  \n",
       "EF v3.1 climate change: fossil global warming p... -0.075972  \n",
       "EF v3.1 climate change: land use and land use c...  0.097924  "
      ]
     },
     "execution_count": 35,
     "metadata": {},
     "output_type": "execute_result"
    }
   ],
   "source": [
    "my_output = pd.DataFrame(Results_SA1c, index=methods_names)\n",
    "my_output.head()"
   ]
  },
  {
   "cell_type": "code",
   "execution_count": 36,
   "metadata": {},
   "outputs": [],
   "source": [
    "# Exporting to Excel\n",
    "my_output.to_excel('Results_SA1c.xlsx')"
   ]
  },
  {
   "cell_type": "code",
   "execution_count": 37,
   "metadata": {},
   "outputs": [
    {
     "data": {
      "text/html": [
       "<div>\n",
       "<style scoped>\n",
       "    .dataframe tbody tr th:only-of-type {\n",
       "        vertical-align: middle;\n",
       "    }\n",
       "\n",
       "    .dataframe tbody tr th {\n",
       "        vertical-align: top;\n",
       "    }\n",
       "\n",
       "    .dataframe thead th {\n",
       "        text-align: right;\n",
       "    }\n",
       "</style>\n",
       "<table border=\"1\" class=\"dataframe\">\n",
       "  <thead>\n",
       "    <tr style=\"text-align: right;\">\n",
       "      <th></th>\n",
       "      <th>PO_fast</th>\n",
       "      <th>eH2</th>\n",
       "      <th>eMeOH_DAC</th>\n",
       "      <th>DME</th>\n",
       "      <th>eNH3</th>\n",
       "      <th>eMeOH_DOC</th>\n",
       "      <th>VLSFO</th>\n",
       "      <th>LNG</th>\n",
       "      <th>eMeOH_bio</th>\n",
       "      <th>bioMeOH</th>\n",
       "      <th>PO_slow</th>\n",
       "      <th>DAC</th>\n",
       "      <th>NH3_CCS</th>\n",
       "    </tr>\n",
       "  </thead>\n",
       "  <tbody>\n",
       "    <tr>\n",
       "      <th>EF v3.1 acidification accumulated exceedance (AE)</th>\n",
       "      <td>0.000898</td>\n",
       "      <td>0.005614</td>\n",
       "      <td>0.000380</td>\n",
       "      <td>0.000064</td>\n",
       "      <td>0.000144</td>\n",
       "      <td>-4868.554031</td>\n",
       "      <td>0.000131</td>\n",
       "      <td>0.000030</td>\n",
       "      <td>8.017568e-05</td>\n",
       "      <td>0.000039</td>\n",
       "      <td>0.000656</td>\n",
       "      <td>0.000006</td>\n",
       "      <td>0.000296</td>\n",
       "    </tr>\n",
       "    <tr>\n",
       "      <th>EF v3.1 climate change global warming potential (GWP100)</th>\n",
       "      <td>0.014331</td>\n",
       "      <td>1.365346</td>\n",
       "      <td>0.116859</td>\n",
       "      <td>0.020010</td>\n",
       "      <td>0.032070</td>\n",
       "      <td>16878.288259</td>\n",
       "      <td>0.039541</td>\n",
       "      <td>0.021839</td>\n",
       "      <td>1.950723e-02</td>\n",
       "      <td>0.010961</td>\n",
       "      <td>0.008608</td>\n",
       "      <td>0.003852</td>\n",
       "      <td>0.141502</td>\n",
       "    </tr>\n",
       "    <tr>\n",
       "      <th>EF v3.1 climate change: biogenic global warming potential (GWP100)</th>\n",
       "      <td>0.000015</td>\n",
       "      <td>-0.000382</td>\n",
       "      <td>0.000002</td>\n",
       "      <td>0.000008</td>\n",
       "      <td>0.000001</td>\n",
       "      <td>20.747875</td>\n",
       "      <td>0.000009</td>\n",
       "      <td>0.000001</td>\n",
       "      <td>1.710839e-07</td>\n",
       "      <td>0.000005</td>\n",
       "      <td>0.000094</td>\n",
       "      <td>-0.000004</td>\n",
       "      <td>-0.007555</td>\n",
       "    </tr>\n",
       "    <tr>\n",
       "      <th>EF v3.1 climate change: fossil global warming potential (GWP100)</th>\n",
       "      <td>0.000111</td>\n",
       "      <td>1.360898</td>\n",
       "      <td>0.116735</td>\n",
       "      <td>0.019962</td>\n",
       "      <td>0.031958</td>\n",
       "      <td>16815.942631</td>\n",
       "      <td>0.039523</td>\n",
       "      <td>0.021835</td>\n",
       "      <td>1.835328e-02</td>\n",
       "      <td>0.008815</td>\n",
       "      <td>-0.089433</td>\n",
       "      <td>0.003810</td>\n",
       "      <td>0.148998</td>\n",
       "    </tr>\n",
       "    <tr>\n",
       "      <th>EF v3.1 climate change: land use and land use change global warming potential (GWP100)</th>\n",
       "      <td>0.014204</td>\n",
       "      <td>0.004830</td>\n",
       "      <td>0.000122</td>\n",
       "      <td>0.000039</td>\n",
       "      <td>0.000110</td>\n",
       "      <td>41.597752</td>\n",
       "      <td>0.000010</td>\n",
       "      <td>0.000003</td>\n",
       "      <td>1.153777e-03</td>\n",
       "      <td>0.002141</td>\n",
       "      <td>0.097946</td>\n",
       "      <td>0.000046</td>\n",
       "      <td>0.000058</td>\n",
       "    </tr>\n",
       "  </tbody>\n",
       "</table>\n",
       "</div>"
      ],
      "text/plain": [
       "                                                     PO_fast       eH2  \\\n",
       "EF v3.1 acidification accumulated exceedance (AE)   0.000898  0.005614   \n",
       "EF v3.1 climate change global warming potential...  0.014331  1.365346   \n",
       "EF v3.1 climate change: biogenic global warming...  0.000015 -0.000382   \n",
       "EF v3.1 climate change: fossil global warming p...  0.000111  1.360898   \n",
       "EF v3.1 climate change: land use and land use c...  0.014204  0.004830   \n",
       "\n",
       "                                                    eMeOH_DAC       DME  \\\n",
       "EF v3.1 acidification accumulated exceedance (AE)    0.000380  0.000064   \n",
       "EF v3.1 climate change global warming potential...   0.116859  0.020010   \n",
       "EF v3.1 climate change: biogenic global warming...   0.000002  0.000008   \n",
       "EF v3.1 climate change: fossil global warming p...   0.116735  0.019962   \n",
       "EF v3.1 climate change: land use and land use c...   0.000122  0.000039   \n",
       "\n",
       "                                                        eNH3     eMeOH_DOC  \\\n",
       "EF v3.1 acidification accumulated exceedance (AE)   0.000144  -4868.554031   \n",
       "EF v3.1 climate change global warming potential...  0.032070  16878.288259   \n",
       "EF v3.1 climate change: biogenic global warming...  0.000001     20.747875   \n",
       "EF v3.1 climate change: fossil global warming p...  0.031958  16815.942631   \n",
       "EF v3.1 climate change: land use and land use c...  0.000110     41.597752   \n",
       "\n",
       "                                                       VLSFO       LNG  \\\n",
       "EF v3.1 acidification accumulated exceedance (AE)   0.000131  0.000030   \n",
       "EF v3.1 climate change global warming potential...  0.039541  0.021839   \n",
       "EF v3.1 climate change: biogenic global warming...  0.000009  0.000001   \n",
       "EF v3.1 climate change: fossil global warming p...  0.039523  0.021835   \n",
       "EF v3.1 climate change: land use and land use c...  0.000010  0.000003   \n",
       "\n",
       "                                                       eMeOH_bio   bioMeOH  \\\n",
       "EF v3.1 acidification accumulated exceedance (AE)   8.017568e-05  0.000039   \n",
       "EF v3.1 climate change global warming potential...  1.950723e-02  0.010961   \n",
       "EF v3.1 climate change: biogenic global warming...  1.710839e-07  0.000005   \n",
       "EF v3.1 climate change: fossil global warming p...  1.835328e-02  0.008815   \n",
       "EF v3.1 climate change: land use and land use c...  1.153777e-03  0.002141   \n",
       "\n",
       "                                                     PO_slow       DAC  \\\n",
       "EF v3.1 acidification accumulated exceedance (AE)   0.000656  0.000006   \n",
       "EF v3.1 climate change global warming potential...  0.008608  0.003852   \n",
       "EF v3.1 climate change: biogenic global warming...  0.000094 -0.000004   \n",
       "EF v3.1 climate change: fossil global warming p... -0.089433  0.003810   \n",
       "EF v3.1 climate change: land use and land use c...  0.097946  0.000046   \n",
       "\n",
       "                                                     NH3_CCS  \n",
       "EF v3.1 acidification accumulated exceedance (AE)   0.000296  \n",
       "EF v3.1 climate change global warming potential...  0.141502  \n",
       "EF v3.1 climate change: biogenic global warming... -0.007555  \n",
       "EF v3.1 climate change: fossil global warming p...  0.148998  \n",
       "EF v3.1 climate change: land use and land use c...  0.000058  "
      ]
     },
     "execution_count": 37,
     "metadata": {},
     "output_type": "execute_result"
    }
   ],
   "source": [
    "my_output = pd.DataFrame(Results_SA1d, index=methods_names)\n",
    "my_output.head()"
   ]
  },
  {
   "cell_type": "code",
   "execution_count": 38,
   "metadata": {},
   "outputs": [],
   "source": [
    "# Exporting to Excel\n",
    "my_output.to_excel('Results_SA1d.xlsx')"
   ]
  },
  {
   "cell_type": "code",
   "execution_count": 63,
   "metadata": {},
   "outputs": [],
   "source": [
    "Results_SA2 = []\n",
    "for m in EF31:\n",
    "    results_SA2 = getLCAresults(Fuels_SA2,m) # total impact per tech\n",
    "    Results_SA2.append(results_SA2)"
   ]
  },
  {
   "cell_type": "code",
   "execution_count": 64,
   "metadata": {},
   "outputs": [
    {
     "data": {
      "text/html": [
       "<div>\n",
       "<style scoped>\n",
       "    .dataframe tbody tr th:only-of-type {\n",
       "        vertical-align: middle;\n",
       "    }\n",
       "\n",
       "    .dataframe tbody tr th {\n",
       "        vertical-align: top;\n",
       "    }\n",
       "\n",
       "    .dataframe thead th {\n",
       "        text-align: right;\n",
       "    }\n",
       "</style>\n",
       "<table border=\"1\" class=\"dataframe\">\n",
       "  <thead>\n",
       "    <tr style=\"text-align: right;\">\n",
       "      <th></th>\n",
       "      <th>bioMeOH</th>\n",
       "      <th>eH2</th>\n",
       "      <th>Wood</th>\n",
       "      <th>PO_fast</th>\n",
       "      <th>eMeOH_bio</th>\n",
       "      <th>PO_slow</th>\n",
       "      <th>Straw</th>\n",
       "      <th>DME</th>\n",
       "    </tr>\n",
       "  </thead>\n",
       "  <tbody>\n",
       "    <tr>\n",
       "      <th>EF v3.1 acidification accumulated exceedance (AE)</th>\n",
       "      <td>0.001615</td>\n",
       "      <td>0.010953</td>\n",
       "      <td>0.006274</td>\n",
       "      <td>0.001976</td>\n",
       "      <td>0.000987</td>\n",
       "      <td>0.006337</td>\n",
       "      <td>0.005379</td>\n",
       "      <td>0.001977</td>\n",
       "    </tr>\n",
       "    <tr>\n",
       "      <th>EF v3.1 climate change global warming potential (GWP100)</th>\n",
       "      <td>0.383186</td>\n",
       "      <td>2.085421</td>\n",
       "      <td>1.926723</td>\n",
       "      <td>0.320433</td>\n",
       "      <td>0.226470</td>\n",
       "      <td>1.491988</td>\n",
       "      <td>1.578150</td>\n",
       "      <td>0.473274</td>\n",
       "    </tr>\n",
       "    <tr>\n",
       "      <th>EF v3.1 climate change: biogenic global warming potential (GWP100)</th>\n",
       "      <td>0.000125</td>\n",
       "      <td>0.001711</td>\n",
       "      <td>0.000261</td>\n",
       "      <td>0.000047</td>\n",
       "      <td>0.000084</td>\n",
       "      <td>0.000234</td>\n",
       "      <td>0.000227</td>\n",
       "      <td>0.000164</td>\n",
       "    </tr>\n",
       "    <tr>\n",
       "      <th>EF v3.1 climate change: fossil global warming potential (GWP100)</th>\n",
       "      <td>0.382891</td>\n",
       "      <td>2.076421</td>\n",
       "      <td>1.925823</td>\n",
       "      <td>0.320269</td>\n",
       "      <td>0.226220</td>\n",
       "      <td>1.491286</td>\n",
       "      <td>1.577458</td>\n",
       "      <td>0.472894</td>\n",
       "    </tr>\n",
       "    <tr>\n",
       "      <th>EF v3.1 climate change: land use and land use change global warming potential (GWP100)</th>\n",
       "      <td>0.000171</td>\n",
       "      <td>0.007289</td>\n",
       "      <td>0.000640</td>\n",
       "      <td>0.000117</td>\n",
       "      <td>0.000166</td>\n",
       "      <td>0.000468</td>\n",
       "      <td>0.000465</td>\n",
       "      <td>0.000216</td>\n",
       "    </tr>\n",
       "  </tbody>\n",
       "</table>\n",
       "</div>"
      ],
      "text/plain": [
       "                                                     bioMeOH       eH2  \\\n",
       "EF v3.1 acidification accumulated exceedance (AE)   0.001615  0.010953   \n",
       "EF v3.1 climate change global warming potential...  0.383186  2.085421   \n",
       "EF v3.1 climate change: biogenic global warming...  0.000125  0.001711   \n",
       "EF v3.1 climate change: fossil global warming p...  0.382891  2.076421   \n",
       "EF v3.1 climate change: land use and land use c...  0.000171  0.007289   \n",
       "\n",
       "                                                        Wood   PO_fast  \\\n",
       "EF v3.1 acidification accumulated exceedance (AE)   0.006274  0.001976   \n",
       "EF v3.1 climate change global warming potential...  1.926723  0.320433   \n",
       "EF v3.1 climate change: biogenic global warming...  0.000261  0.000047   \n",
       "EF v3.1 climate change: fossil global warming p...  1.925823  0.320269   \n",
       "EF v3.1 climate change: land use and land use c...  0.000640  0.000117   \n",
       "\n",
       "                                                    eMeOH_bio   PO_slow  \\\n",
       "EF v3.1 acidification accumulated exceedance (AE)    0.000987  0.006337   \n",
       "EF v3.1 climate change global warming potential...   0.226470  1.491988   \n",
       "EF v3.1 climate change: biogenic global warming...   0.000084  0.000234   \n",
       "EF v3.1 climate change: fossil global warming p...   0.226220  1.491286   \n",
       "EF v3.1 climate change: land use and land use c...   0.000166  0.000468   \n",
       "\n",
       "                                                       Straw       DME  \n",
       "EF v3.1 acidification accumulated exceedance (AE)   0.005379  0.001977  \n",
       "EF v3.1 climate change global warming potential...  1.578150  0.473274  \n",
       "EF v3.1 climate change: biogenic global warming...  0.000227  0.000164  \n",
       "EF v3.1 climate change: fossil global warming p...  1.577458  0.472894  \n",
       "EF v3.1 climate change: land use and land use c...  0.000465  0.000216  "
      ]
     },
     "execution_count": 64,
     "metadata": {},
     "output_type": "execute_result"
    }
   ],
   "source": [
    "my_output = pd.DataFrame(Results_SA2, index=methods_names)\n",
    "my_output.head()"
   ]
  },
  {
   "cell_type": "code",
   "execution_count": 65,
   "metadata": {},
   "outputs": [],
   "source": [
    "# Exporting to Excel\n",
    "my_output.to_excel('Results_SA2B.xlsx')"
   ]
  },
  {
   "cell_type": "code",
   "execution_count": null,
   "metadata": {},
   "outputs": [],
   "source": []
  }
 ],
 "metadata": {
  "kernelspec": {
   "display_name": "Python 3.11.0",
   "language": "python",
   "name": "python3"
  },
  "language_info": {
   "codemirror_mode": {
    "name": "ipython",
    "version": 3
   },
   "file_extension": ".py",
   "mimetype": "text/x-python",
   "name": "python",
   "nbconvert_exporter": "python",
   "pygments_lexer": "ipython3",
   "version": "3.11.0"
  },
  "orig_nbformat": 4,
  "vscode": {
   "interpreter": {
    "hash": "82564b9d83d215aeea51e5be1898001271ba837eb23ba5d8f9bcea7057e5a82c"
   }
  }
 },
 "nbformat": 4,
 "nbformat_minor": 2
}
